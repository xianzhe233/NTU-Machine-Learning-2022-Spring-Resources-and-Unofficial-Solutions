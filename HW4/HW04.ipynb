{
 "cells": [
  {
   "cell_type": "markdown",
   "id": "d714ab3a",
   "metadata": {
    "vscode": {
     "languageId": "plaintext"
    }
   },
   "source": [
    "# HW4 Speakers Classification"
   ]
  },
  {
   "cell_type": "markdown",
   "id": "394023fe",
   "metadata": {},
   "source": [
    "---"
   ]
  },
  {
   "cell_type": "markdown",
   "id": "949426dc",
   "metadata": {},
   "source": [
    "# Get Data"
   ]
  },
  {
   "cell_type": "markdown",
   "id": "14fa792b",
   "metadata": {},
   "source": [
    "## Download Data (These links are no longer working, I finally downloaded these on Kaggle)"
   ]
  },
  {
   "cell_type": "code",
   "execution_count": 59,
   "id": "49202bc0",
   "metadata": {},
   "outputs": [],
   "source": [
    "# !curl -L \"https://github.com/MachineLearningHW/ML_HW4_Dataset/releases/latest/download/Dataset.tar.gz.partaa\" -o Dataset.tar.gz.partaa\n",
    "\n",
    "# !curl -L \"https://github.com/MachineLearningHW/ML_HW4_Dataset/releases/latest/download/Dataset.tar.gz.partab\" -o Dataset.tar.gz.partab\n",
    "\n",
    "# !curl -L \"https://github.com/MachineLearningHW/ML_HW4_Dataset/releases/latest/download/Dataset.tar.gz.partac\" -o Dataset.tar.gz.partac\n",
    "\n",
    "# !curl -L \"https://github.com/MachineLearningHW/ML_HW4_Dataset/releases/latest/download/Dataset.tar.gz.partad\" -o Dataset.tar.gz.partad\n",
    "\n",
    "# !copy /b Dataset.tar.gz.part* Dataset.tar.gz\n",
    "\n",
    "# !tar -zxvf Dataset.tar.gz\n"
   ]
  },
  {
   "cell_type": "markdown",
   "id": "fbeed095",
   "metadata": {},
   "source": [
    "## Manually Unzip"
   ]
  },
  {
   "cell_type": "markdown",
   "id": "e8de3e8f",
   "metadata": {},
   "source": [
    "---"
   ]
  },
  {
   "cell_type": "markdown",
   "id": "6e22d198",
   "metadata": {},
   "source": [
    "# Preparation"
   ]
  },
  {
   "cell_type": "markdown",
   "id": "6cc49604",
   "metadata": {},
   "source": [
    "## Importing"
   ]
  },
  {
   "cell_type": "code",
   "execution_count": 60,
   "id": "9e056f5a",
   "metadata": {},
   "outputs": [],
   "source": [
    "import os\n",
    "import json\n",
    "import math\n",
    "from pathlib import Path\n",
    "\n",
    "import numpy as np\n",
    "import pandas as pd\n",
    "import csv\n",
    "import torch\n",
    "import torch.nn as nn\n",
    "import torch.nn.functional as F\n",
    "from torch.optim import Optimizer, AdamW\n",
    "from torch.optim.lr_scheduler import LambdaLR\n",
    "from torch.nn.utils.rnn import pad_sequence\n",
    "from torch.utils.data import ConcatDataset, DataLoader, Subset, Dataset, random_split\n",
    "\n",
    "from tqdm.auto import tqdm, trange\n",
    "import random\n",
    "\n",
    "from torch.utils.tensorboard import SummaryWriter\n"
   ]
  },
  {
   "cell_type": "markdown",
   "id": "75b447c5",
   "metadata": {},
   "source": [
    "## Define Dataset"
   ]
  },
  {
   "cell_type": "code",
   "execution_count": 61,
   "id": "f6440585",
   "metadata": {},
   "outputs": [],
   "source": [
    "class MyDataset(Dataset):\n",
    "\n",
    "    def __init__(self, data_dir, segment_len=128):\n",
    "        self.data_dir = data_dir\n",
    "        self.segment_len = segment_len\n",
    "\n",
    "        mapping_path = Path(data_dir) / \"mapping.json\"\n",
    "        mapping = json.load(mapping_path.open())\n",
    "        self.speaker2id = mapping[\"speaker2id\"]\n",
    "\n",
    "        metadata_path = Path(data_dir) / \"metadata.json\"\n",
    "        metadata = json.load(open(metadata_path))[\"speakers\"]\n",
    "\n",
    "        self.speaker_num = len(metadata.keys())\n",
    "        self.data = []\n",
    "        for speaker in metadata.keys():\n",
    "            for utterances in metadata[speaker]:\n",
    "                self.data.append(\n",
    "                    [utterances[\"feature_path\"], self.speaker2id[speaker]])\n",
    "\n",
    "    def __len__(self):\n",
    "        return len(self.data)\n",
    "\n",
    "    def __getitem__(self, index):\n",
    "        feat_path, speaker_id = self.data[index]\n",
    "        mel = torch.load(os.path.join(self.data_dir, feat_path))\n",
    "\n",
    "        if len(mel) > self.segment_len:\n",
    "            start = random.randint(0, len(mel) - self.segment_len)\n",
    "            mel = torch.FloatTensor(mel[start:start + self.segment_len])\n",
    "        else:\n",
    "            mel = torch.FloatTensor(mel)\n",
    "\n",
    "        speaker_id = torch.tensor(speaker_id, dtype=torch.long)\n",
    "        return mel, speaker_id\n",
    "\n",
    "    def get_speaker_number(self):\n",
    "        return self.speaker_num\n"
   ]
  },
  {
   "cell_type": "markdown",
   "id": "a7040dc5",
   "metadata": {},
   "source": [
    "## Define Dataloader"
   ]
  },
  {
   "cell_type": "code",
   "execution_count": 62,
   "id": "a0b4dfdd",
   "metadata": {},
   "outputs": [],
   "source": [
    "def collate_batch(batch):\n",
    "    mel, speaker = zip(*batch)\n",
    "    mel = pad_sequence(mel, batch_first=True, padding_value=-20)\n",
    "    speaker = torch.stack(speaker)\n",
    "    return mel, speaker\n",
    "\n",
    "\n",
    "def get_dataloader(data_dir_val,\n",
    "                   batch_size_val,\n",
    "                   n_workers_val,\n",
    "                   segment_len_val=128):\n",
    "    dataset = MyDataset(data_dir_val, segment_len=segment_len_val)\n",
    "    speaker_num_val = dataset.get_speaker_number()\n",
    "\n",
    "    train_length = int(0.9 * len(dataset))\n",
    "    lengths = [train_length, len(dataset) - train_length]\n",
    "    train_dataset, val_dataset = random_split(dataset, lengths)\n",
    "\n",
    "    train_loader = DataLoader(\n",
    "        train_dataset,\n",
    "        batch_size=batch_size_val,\n",
    "        shuffle=True,\n",
    "        drop_last=True,\n",
    "        num_workers=n_workers_val,\n",
    "        pin_memory=True,\n",
    "        collate_fn=collate_batch,\n",
    "    )\n",
    "    valid_loader = DataLoader(\n",
    "        val_dataset,\n",
    "        batch_size=batch_size_val,\n",
    "        shuffle=False,\n",
    "        drop_last=False,\n",
    "        num_workers=n_workers_val,\n",
    "        pin_memory=True,\n",
    "        collate_fn=collate_batch,\n",
    "    )\n",
    "    return train_loader, valid_loader, speaker_num_val\n"
   ]
  },
  {
   "cell_type": "markdown",
   "id": "705f79b4",
   "metadata": {},
   "source": [
    "## Define Model"
   ]
  },
  {
   "cell_type": "code",
   "execution_count": 63,
   "id": "be4c3312",
   "metadata": {},
   "outputs": [],
   "source": [
    "class Classifier(nn.Module):\n",
    "\n",
    "    def __init__(self,\n",
    "                 d_model,\n",
    "                 num_encoder_layers,\n",
    "                 dim_feedforward,\n",
    "                 num_heads,\n",
    "                 dropout_rate,\n",
    "                 num_speakers=600):\n",
    "        super().__init__()\n",
    "        # Project the dimension of features from that of input into d_model.\n",
    "        self.prenet = nn.Linear(40, d_model)\n",
    "        # TODO:\n",
    "        #   Change Transformer to Conformer.\n",
    "        #   https://arxiv.org/abs/2005.08100\n",
    "        self.encoder_layer = nn.TransformerEncoderLayer(\n",
    "            d_model=d_model,\n",
    "            dim_feedforward=dim_feedforward,\n",
    "            nhead=num_heads,\n",
    "            dropout=dropout_rate)\n",
    "        self.encoder = nn.TransformerEncoder(self.encoder_layer,\n",
    "                                             num_layers=num_encoder_layers)\n",
    "\n",
    "        # Project the the dimension of features from d_model into speaker nums.\n",
    "        self.pred_layer = nn.Sequential(\n",
    "            nn.Linear(d_model, d_model),\n",
    "            nn.ReLU(),\n",
    "            nn.Linear(d_model, num_speakers),\n",
    "        )\n",
    "\n",
    "    def forward(self, mels):\n",
    "        \"\"\"\n",
    "\t\targs:\n",
    "\t\t\tmels: (batch size, length, 40)\n",
    "\t\treturn:\n",
    "\t\t\tout: (batch size, num_speakers)\n",
    "\t\t\"\"\"\n",
    "        # out: (batch size, length, d_model)\n",
    "        out = self.prenet(mels)\n",
    "        # out: (length, batch size, d_model)\n",
    "        out = out.permute(1, 0, 2)\n",
    "        # The encoder layer expect features in the shape of (length, batch size, d_model).\n",
    "        out = self.encoder(out)\n",
    "        # out: (batch size, length, d_model)\n",
    "        out = out.transpose(0, 1)\n",
    "        # mean pooling\n",
    "        stats = out.mean(dim=1)\n",
    "\n",
    "        # out: (batch, num_speakers)\n",
    "        out = self.pred_layer(stats)\n",
    "        return out\n"
   ]
  },
  {
   "cell_type": "markdown",
   "id": "84b617fc",
   "metadata": {},
   "source": [
    "## Fixing seed"
   ]
  },
  {
   "cell_type": "code",
   "execution_count": 64,
   "id": "22104dd1",
   "metadata": {},
   "outputs": [],
   "source": [
    "def same_seeds(seed):\n",
    "    torch.manual_seed(seed)\n",
    "    if torch.cuda.is_available():\n",
    "        torch.cuda.manual_seed(seed)\n",
    "        torch.cuda.manual_seed_all(seed)\n",
    "    np.random.seed(seed)\n",
    "    torch.backends.cudnn.benchmark = False\n",
    "    torch.backends.cudnn.deterministic = True\n"
   ]
  },
  {
   "cell_type": "markdown",
   "id": "055a7418",
   "metadata": {},
   "source": [
    "## Hyperparameters"
   ]
  },
  {
   "cell_type": "code",
   "execution_count": null,
   "id": "ed8e1e9f",
   "metadata": {},
   "outputs": [
    {
     "name": "stdout",
     "output_type": "stream",
     "text": [
      "Using device: cuda\n"
     ]
    }
   ],
   "source": [
    "# general paths and settings\n",
    "data_dir = \"./Dataset\"\n",
    "model_save_path = \"./speaker_model.ckpt\"\n",
    "submission_path = \"./submission.csv\"\n",
    "tensorboard_log_dir = \"./runs/speaker_classification\"\n",
    "seed = 3407\n",
    "\n",
    "# training parameters\n",
    "batch_size = 32\n",
    "num_workers = 0\n",
    "num_speakers = 600  # will be determined from the dataset\n",
    "\n",
    "# model parameters (transformer related)\n",
    "d_model = 192\n",
    "num_speakers = 600\n",
    "num_encoder_layers = 3\n",
    "dim_feedforward = 768\n",
    "num_heads = 4\n",
    "dropout_rate = 0\n",
    "\n",
    "# optimizer and scheduler parameters\n",
    "learning_rate = 5e-4\n",
    "num_warmup_steps = 1000\n",
    "total_steps = 100000\n",
    "\n",
    "# training control\n",
    "valid_steps = 2000\n",
    "early_stop_patience = 10\n",
    "\n",
    "# apply seed\n",
    "same_seeds(seed)\n",
    "\n",
    "# device configuration\n",
    "device = torch.device(\"cuda\" if torch.cuda.is_available() else \"cpu\")\n",
    "print(f\"Using device: {device}\")\n"
   ]
  },
  {
   "cell_type": "markdown",
   "id": "8e378978",
   "metadata": {},
   "source": [
    "## Training Utilities"
   ]
  },
  {
   "cell_type": "markdown",
   "id": "49584337",
   "metadata": {},
   "source": [
    "### Warmup Scheduler"
   ]
  },
  {
   "cell_type": "code",
   "execution_count": 66,
   "id": "3a72321d",
   "metadata": {},
   "outputs": [],
   "source": [
    "def get_cosine_schedule_with_warmup(\n",
    "    optimizer: Optimizer,\n",
    "    num_warmup_steps: int,\n",
    "    num_training_steps: int,\n",
    "    num_cycles: float = 0.5,\n",
    "    last_epoch: int = -1,\n",
    "):\n",
    "\n",
    "    def lr_lambda(current_step):\n",
    "        if current_step < num_warmup_steps:\n",
    "            return float(current_step) / float(max(1, num_warmup_steps))\n",
    "        progress = float(current_step - num_warmup_steps) / float(\n",
    "            max(1, num_training_steps - num_warmup_steps))\n",
    "        return max(\n",
    "            0.0, 0.5 *\n",
    "            (1.0 + math.cos(math.pi * float(num_cycles) * 2.0 * progress)))\n",
    "\n",
    "    return LambdaLR(optimizer, lr_lambda, last_epoch)\n"
   ]
  },
  {
   "cell_type": "markdown",
   "id": "0f5ed35b",
   "metadata": {},
   "source": [
    "### Validation Process"
   ]
  },
  {
   "cell_type": "code",
   "execution_count": 67,
   "id": "b47c5c48",
   "metadata": {},
   "outputs": [],
   "source": [
    "def validate_speaker_model(valid_loader_val,\n",
    "                           model_val,\n",
    "                           criterion_val,\n",
    "                           device_val,\n",
    "                           current_step_or_epoch,\n",
    "                           writer_tb=None,\n",
    "                           pbar_desc_prefix=\"\"):\n",
    "    model_val.eval()\n",
    "    epoch_valid_loss = 0.0\n",
    "    epoch_valid_corrects = 0\n",
    "    num_valid_samples = 0\n",
    "\n",
    "    batch_pbar = tqdm(valid_loader_val,\n",
    "                      leave=False,\n",
    "                      desc=f\"{pbar_desc_prefix} Validation\")\n",
    "    with torch.no_grad():\n",
    "        for features, labels in batch_pbar:\n",
    "            features = features.to(device_val)\n",
    "            labels = labels.to(device_val)\n",
    "\n",
    "            outputs = model_val(features)\n",
    "            loss = criterion_val(outputs, labels)\n",
    "\n",
    "            preds = outputs.argmax(dim=-1)\n",
    "            epoch_valid_loss += loss.item() * features.size(0)\n",
    "            epoch_valid_corrects += (preds == labels).sum().item()\n",
    "            num_valid_samples += features.size(0)\n",
    "\n",
    "            batch_pbar.set_postfix(\n",
    "                loss=f\"{loss.item():.4f}\",\n",
    "                acc=f\"{(preds == labels).sum().item()/features.size(0):.2%}\")\n",
    "\n",
    "    avg_epoch_valid_loss = epoch_valid_loss / num_valid_samples if num_valid_samples > 0 else 0\n",
    "    avg_epoch_valid_acc = epoch_valid_corrects / num_valid_samples if num_valid_samples > 0 else 0\n",
    "\n",
    "    if writer_tb:\n",
    "        writer_tb.add_scalar('Loss/valid_step', avg_epoch_valid_loss,\n",
    "                             current_step_or_epoch)\n",
    "        writer_tb.add_scalar('Accuracy/valid_step', avg_epoch_valid_acc,\n",
    "                             current_step_or_epoch)\n",
    "\n",
    "    model_val.train()\n",
    "    return avg_epoch_valid_loss, avg_epoch_valid_acc\n"
   ]
  },
  {
   "cell_type": "markdown",
   "id": "dac59399",
   "metadata": {},
   "source": [
    "### Training Process"
   ]
  },
  {
   "cell_type": "code",
   "execution_count": 68,
   "id": "93980106",
   "metadata": {},
   "outputs": [],
   "source": [
    "def model_fn_speaker(batch, model, criterion_val, device_val):\n",
    "    mels, labels = batch\n",
    "    mels = mels.to(device_val)\n",
    "    labels = labels.to(device_val)\n",
    "\n",
    "    outs = model(mels)\n",
    "    loss = criterion_val(outs, labels)\n",
    "\n",
    "    preds = outs.argmax(1)\n",
    "    accuracy = torch.mean((preds == labels).float())\n",
    "\n",
    "    return loss, accuracy\n",
    "\n",
    "\n",
    "def train_speaker_model(model_to_train, train_loader_val, valid_loader_val,\n",
    "                        criterion_val, optimizer_val, scheduler_val,\n",
    "                        device_val):\n",
    "    tb_writer = SummaryWriter(log_dir=tensorboard_log_dir)\n",
    "\n",
    "    best_valid_acc = 0.0\n",
    "    best_model_state_dict = None\n",
    "    epochs_no_improve = 0\n",
    "\n",
    "    train_iterator = iter(train_loader_val)\n",
    "\n",
    "    epoch_running_loss = 0.0\n",
    "    epoch_running_corrects = 0\n",
    "    epoch_num_samples = 0\n",
    "    completed_data_passes = 0\n",
    "\n",
    "    pbar_total_steps = tqdm(range(total_steps), desc=\"Total Training Steps\")\n",
    "\n",
    "    for step in pbar_total_steps:\n",
    "        model_to_train.train()\n",
    "\n",
    "        try:\n",
    "            batch = next(train_iterator)\n",
    "        except StopIteration:\n",
    "            if epoch_num_samples > 0:\n",
    "                current_pass_avg_loss = epoch_running_loss / epoch_num_samples\n",
    "                current_pass_avg_acc = epoch_running_corrects / epoch_num_samples\n",
    "                pbar_total_steps.write(\n",
    "                    f\"End of Training Data Pass {completed_data_passes + 1}: \"\n",
    "                    f\"Avg Loss: {current_pass_avg_loss:.4f}, Avg Acc: {current_pass_avg_acc:.2%}\"\n",
    "                )\n",
    "                if tb_writer:\n",
    "                    tb_writer.add_scalar('Loss/train_data_pass_avg',\n",
    "                                         current_pass_avg_loss,\n",
    "                                         completed_data_passes + 1)\n",
    "                    tb_writer.add_scalar('Accuracy/train_data_pass_avg',\n",
    "                                         current_pass_avg_acc,\n",
    "                                         completed_data_passes + 1)\n",
    "\n",
    "            epoch_running_loss = 0.0\n",
    "            epoch_running_corrects = 0\n",
    "            epoch_num_samples = 0\n",
    "            completed_data_passes += 1\n",
    "            train_iterator = iter(train_loader_val)\n",
    "            batch = next(train_iterator)\n",
    "\n",
    "        loss, accuracy = model_fn_speaker(batch, model_to_train, criterion_val,\n",
    "                                          device_val)\n",
    "\n",
    "        optimizer_val.zero_grad()\n",
    "        loss.backward()\n",
    "        optimizer_val.step()\n",
    "        scheduler_val.step()\n",
    "\n",
    "        current_lr = optimizer_val.param_groups[0]['lr']\n",
    "\n",
    "        current_batch_size = batch[0].size(0)\n",
    "        epoch_running_loss += loss.item() * current_batch_size\n",
    "        epoch_running_corrects += accuracy.item() * current_batch_size\n",
    "        epoch_num_samples += current_batch_size\n",
    "\n",
    "        current_epoch_avg_train_acc = 0\n",
    "        if epoch_num_samples > 0:\n",
    "            current_epoch_avg_train_acc = epoch_running_corrects / epoch_num_samples\n",
    "\n",
    "        if step % 100 == 0:\n",
    "            tb_writer.add_scalar('Loss/train_batch', loss.item(), step)\n",
    "            tb_writer.add_scalar('Accuracy/train_batch', accuracy.item(), step)\n",
    "            tb_writer.add_scalar('LearningRate/step', current_lr, step)\n",
    "\n",
    "        pbar_total_steps.set_postfix(\n",
    "            batch_loss=f\"{loss.item():.4f}\",\n",
    "            batch_acc=f\"{accuracy.item():.2%}\",\n",
    "            run_avg_acc=f\"{current_epoch_avg_train_acc:.2%}\",\n",
    "            lr=f\"{current_lr:.2e}\")\n",
    "\n",
    "        if (step + 1) % valid_steps == 0:\n",
    "            avg_valid_loss, avg_valid_acc = validate_speaker_model(\n",
    "                valid_loader_val,\n",
    "                model_to_train,\n",
    "                criterion_val,\n",
    "                device_val,\n",
    "                step + 1,\n",
    "                tb_writer,\n",
    "                pbar_desc_prefix=f\"Step {step+1}\")\n",
    "\n",
    "            pbar_total_steps.write(\n",
    "                f\"Step {step + 1}/{total_steps} - \"\n",
    "                f\"Valid Loss: {avg_valid_loss:.4f}, Valid Acc: {avg_valid_acc:.2%}\"\n",
    "            )\n",
    "\n",
    "            if avg_valid_acc > best_valid_acc:\n",
    "                best_valid_acc = avg_valid_acc\n",
    "                best_model_state_dict = model_to_train.state_dict()\n",
    "                torch.save(best_model_state_dict, model_save_path)\n",
    "                pbar_total_steps.write(\n",
    "                    f\"Best model updated at step {step + 1}. Accuracy: {best_valid_acc:.2%}. Saved to {model_save_path}\"\n",
    "                )\n",
    "                epochs_no_improve = 0\n",
    "            else:\n",
    "                epochs_no_improve += 1\n",
    "\n",
    "            if epochs_no_improve >= early_stop_patience:\n",
    "                pbar_total_steps.write(\n",
    "                    f\"Early stopping triggered at step {step + 1} after {epochs_no_improve} validation checks without improvement.\"\n",
    "                )\n",
    "                break\n",
    "\n",
    "    tb_writer.close()\n",
    "    print(\n",
    "        f\"\\nTraining finished. Best validation accuracy: {best_valid_acc:.4%}\")\n",
    "    if best_valid_acc > 0:\n",
    "        print(f\"Best model saved to {model_save_path}\")\n",
    "    else:\n",
    "        print(\n",
    "            \"No model was saved as validation accuracy did not improve or training was too short.\"\n",
    "        )\n",
    "\n",
    "    return best_valid_acc\n"
   ]
  },
  {
   "cell_type": "markdown",
   "id": "dce9387a",
   "metadata": {},
   "source": [
    "### Train Function"
   ]
  },
  {
   "cell_type": "code",
   "execution_count": 69,
   "id": "9865557a",
   "metadata": {},
   "outputs": [],
   "source": [
    "def train():\n",
    "    # prepare dataloaders\n",
    "    train_loader, valid_loader, speaker_num_from_data = get_dataloader(\n",
    "        data_dir_val=data_dir,\n",
    "        batch_size_val=batch_size,\n",
    "        n_workers_val=num_workers)\n",
    "\n",
    "    print(\n",
    "        f\"Train Dataloader: {len(train_loader.dataset)} samples, {len(train_loader)} batches\"\n",
    "    )\n",
    "    print(\n",
    "        f\"Valid Dataloader: {len(valid_loader.dataset)} samples, {len(valid_loader)} batches\"\n",
    "    )\n",
    "\n",
    "    # initialize model, criterion, optimizer, and scheduler\n",
    "    print(\"Initializing model, criterion, optimizer, and scheduler...\")\n",
    "    speaker_model = Classifier(d_model=d_model,\n",
    "                               num_encoder_layers=num_encoder_layers,\n",
    "                               dim_feedforward=dim_feedforward,\n",
    "                               num_heads=num_heads,\n",
    "                               dropout_rate=dropout_rate).to(device)\n",
    "\n",
    "    criterion = nn.CrossEntropyLoss()\n",
    "    optimizer = AdamW(speaker_model.parameters(), lr=learning_rate)\n",
    "    scheduler = get_cosine_schedule_with_warmup(optimizer, num_warmup_steps,\n",
    "                                                total_steps)\n",
    "\n",
    "    # Run training\n",
    "    best_accuracy_from_training = train_speaker_model(\n",
    "        model_to_train=speaker_model,\n",
    "        train_loader_val=train_loader,\n",
    "        valid_loader_val=valid_loader,\n",
    "        criterion_val=criterion,\n",
    "        optimizer_val=optimizer,\n",
    "        scheduler_val=scheduler,\n",
    "        device_val=device)\n",
    "    print(\n",
    "        f\"Training complete. Best validation accuracy: {best_accuracy_from_training:.2%}\"\n",
    "    )\n"
   ]
  },
  {
   "cell_type": "markdown",
   "id": "4a2de4c0",
   "metadata": {},
   "source": [
    "# Training"
   ]
  },
  {
   "cell_type": "code",
   "execution_count": 70,
   "id": "24f95fcf",
   "metadata": {},
   "outputs": [
    {
     "name": "stdout",
     "output_type": "stream",
     "text": [
      "Train Dataloader: 50999 samples, 1593 batches\n",
      "Valid Dataloader: 5667 samples, 178 batches\n",
      "Initializing model, criterion, optimizer, and scheduler...\n"
     ]
    },
    {
     "name": "stderr",
     "output_type": "stream",
     "text": [
      "e:\\Anaconda\\envs\\pytorch\\Lib\\site-packages\\torch\\nn\\modules\\transformer.py:286: UserWarning: enable_nested_tensor is True, but self.use_nested_tensor is False because encoder_layer.self_attn.batch_first was not True(use batch_first for better inference performance)\n",
      "  warnings.warn(f\"enable_nested_tensor is True, but self.use_nested_tensor is False because {why_not_sparsity_fast_path}\")\n"
     ]
    },
    {
     "data": {
      "application/vnd.jupyter.widget-view+json": {
       "model_id": "467baab789234e68919ad3701c1e243c",
       "version_major": 2,
       "version_minor": 0
      },
      "text/plain": [
       "Total Training Steps:   0%|          | 0/100000 [00:00<?, ?it/s]"
      ]
     },
     "metadata": {},
     "output_type": "display_data"
    },
    {
     "name": "stdout",
     "output_type": "stream",
     "text": [
      "End of Training Data Pass 1: Avg Loss: 4.9440, Avg Acc: 7.93%\n"
     ]
    },
    {
     "data": {
      "application/vnd.jupyter.widget-view+json": {
       "model_id": "8a36817d6f7940debe78efdb0b409aed",
       "version_major": 2,
       "version_minor": 0
      },
      "text/plain": [
       "Step 2000 Validation:   0%|          | 0/178 [00:00<?, ?it/s]"
      ]
     },
     "metadata": {},
     "output_type": "display_data"
    },
    {
     "name": "stdout",
     "output_type": "stream",
     "text": [
      "Step 2000/100000 - Valid Loss: 3.6729, Valid Acc: 21.39%\n",
      "Best model updated at step 2000. Accuracy: 21.39%. Saved to ./speaker_model.ckpt\n",
      "End of Training Data Pass 2: Avg Loss: 3.4708, Avg Acc: 24.89%\n"
     ]
    },
    {
     "data": {
      "application/vnd.jupyter.widget-view+json": {
       "model_id": "d5827753c9a54f65a234e9965a7492a7",
       "version_major": 2,
       "version_minor": 0
      },
      "text/plain": [
       "Step 4000 Validation:   0%|          | 0/178 [00:00<?, ?it/s]"
      ]
     },
     "metadata": {},
     "output_type": "display_data"
    },
    {
     "name": "stdout",
     "output_type": "stream",
     "text": [
      "Step 4000/100000 - Valid Loss: 3.0347, Valid Acc: 32.91%\n",
      "Best model updated at step 4000. Accuracy: 32.91%. Saved to ./speaker_model.ckpt\n",
      "End of Training Data Pass 3: Avg Loss: 2.9264, Avg Acc: 34.32%\n"
     ]
    },
    {
     "data": {
      "application/vnd.jupyter.widget-view+json": {
       "model_id": "4139dd7307cc44ef86d51bcff747c664",
       "version_major": 2,
       "version_minor": 0
      },
      "text/plain": [
       "Step 6000 Validation:   0%|          | 0/178 [00:00<?, ?it/s]"
      ]
     },
     "metadata": {},
     "output_type": "display_data"
    },
    {
     "name": "stdout",
     "output_type": "stream",
     "text": [
      "Step 6000/100000 - Valid Loss: 2.6511, Valid Acc: 40.55%\n",
      "Best model updated at step 6000. Accuracy: 40.55%. Saved to ./speaker_model.ckpt\n",
      "End of Training Data Pass 4: Avg Loss: 2.6454, Avg Acc: 39.60%\n",
      "End of Training Data Pass 5: Avg Loss: 2.3930, Avg Acc: 44.15%\n"
     ]
    },
    {
     "data": {
      "application/vnd.jupyter.widget-view+json": {
       "model_id": "02ab712bf5f7469f8b5c0ee66728d66a",
       "version_major": 2,
       "version_minor": 0
      },
      "text/plain": [
       "Step 8000 Validation:   0%|          | 0/178 [00:00<?, ?it/s]"
      ]
     },
     "metadata": {},
     "output_type": "display_data"
    },
    {
     "name": "stdout",
     "output_type": "stream",
     "text": [
      "Step 8000/100000 - Valid Loss: 2.5079, Valid Acc: 42.88%\n",
      "Best model updated at step 8000. Accuracy: 42.88%. Saved to ./speaker_model.ckpt\n",
      "End of Training Data Pass 6: Avg Loss: 2.3007, Avg Acc: 46.20%\n"
     ]
    },
    {
     "data": {
      "application/vnd.jupyter.widget-view+json": {
       "model_id": "d19035c46cd94cdc878b81285a01ad02",
       "version_major": 2,
       "version_minor": 0
      },
      "text/plain": [
       "Step 10000 Validation:   0%|          | 0/178 [00:00<?, ?it/s]"
      ]
     },
     "metadata": {},
     "output_type": "display_data"
    },
    {
     "name": "stdout",
     "output_type": "stream",
     "text": [
      "Step 10000/100000 - Valid Loss: 2.4457, Valid Acc: 44.40%\n",
      "Best model updated at step 10000. Accuracy: 44.40%. Saved to ./speaker_model.ckpt\n",
      "End of Training Data Pass 7: Avg Loss: 2.1812, Avg Acc: 48.37%\n"
     ]
    },
    {
     "data": {
      "application/vnd.jupyter.widget-view+json": {
       "model_id": "55c920d80f374c1eb030adb1bd7058a0",
       "version_major": 2,
       "version_minor": 0
      },
      "text/plain": [
       "Step 12000 Validation:   0%|          | 0/178 [00:00<?, ?it/s]"
      ]
     },
     "metadata": {},
     "output_type": "display_data"
    },
    {
     "name": "stdout",
     "output_type": "stream",
     "text": [
      "Step 12000/100000 - Valid Loss: 2.4487, Valid Acc: 45.16%\n",
      "Best model updated at step 12000. Accuracy: 45.16%. Saved to ./speaker_model.ckpt\n",
      "End of Training Data Pass 8: Avg Loss: 2.1140, Avg Acc: 49.91%\n"
     ]
    },
    {
     "data": {
      "application/vnd.jupyter.widget-view+json": {
       "model_id": "90f3a7a370f04f20bf3e62f2cda89b3c",
       "version_major": 2,
       "version_minor": 0
      },
      "text/plain": [
       "Step 14000 Validation:   0%|          | 0/178 [00:00<?, ?it/s]"
      ]
     },
     "metadata": {},
     "output_type": "display_data"
    },
    {
     "name": "stdout",
     "output_type": "stream",
     "text": [
      "Step 14000/100000 - Valid Loss: 2.2280, Valid Acc: 48.77%\n",
      "Best model updated at step 14000. Accuracy: 48.77%. Saved to ./speaker_model.ckpt\n",
      "End of Training Data Pass 9: Avg Loss: 1.9704, Avg Acc: 52.63%\n",
      "End of Training Data Pass 10: Avg Loss: 1.8848, Avg Acc: 54.72%\n"
     ]
    },
    {
     "data": {
      "application/vnd.jupyter.widget-view+json": {
       "model_id": "c8cbfabb5cb24ac6985d93b843f6b650",
       "version_major": 2,
       "version_minor": 0
      },
      "text/plain": [
       "Step 16000 Validation:   0%|          | 0/178 [00:00<?, ?it/s]"
      ]
     },
     "metadata": {},
     "output_type": "display_data"
    },
    {
     "name": "stdout",
     "output_type": "stream",
     "text": [
      "Step 16000/100000 - Valid Loss: 2.0797, Valid Acc: 51.79%\n",
      "Best model updated at step 16000. Accuracy: 51.79%. Saved to ./speaker_model.ckpt\n",
      "End of Training Data Pass 11: Avg Loss: 1.8324, Avg Acc: 55.63%\n"
     ]
    },
    {
     "data": {
      "application/vnd.jupyter.widget-view+json": {
       "model_id": "07aec075ab6c499f8dd388f5caeeabbb",
       "version_major": 2,
       "version_minor": 0
      },
      "text/plain": [
       "Step 18000 Validation:   0%|          | 0/178 [00:00<?, ?it/s]"
      ]
     },
     "metadata": {},
     "output_type": "display_data"
    },
    {
     "name": "stdout",
     "output_type": "stream",
     "text": [
      "Step 18000/100000 - Valid Loss: 2.0953, Valid Acc: 51.65%\n",
      "End of Training Data Pass 12: Avg Loss: 1.7853, Avg Acc: 56.69%\n"
     ]
    },
    {
     "data": {
      "application/vnd.jupyter.widget-view+json": {
       "model_id": "57396225e50646a4bfde314bd264cde7",
       "version_major": 2,
       "version_minor": 0
      },
      "text/plain": [
       "Step 20000 Validation:   0%|          | 0/178 [00:00<?, ?it/s]"
      ]
     },
     "metadata": {},
     "output_type": "display_data"
    },
    {
     "name": "stdout",
     "output_type": "stream",
     "text": [
      "Step 20000/100000 - Valid Loss: 2.0252, Valid Acc: 53.10%\n",
      "Best model updated at step 20000. Accuracy: 53.10%. Saved to ./speaker_model.ckpt\n",
      "End of Training Data Pass 13: Avg Loss: 1.7910, Avg Acc: 56.71%\n"
     ]
    },
    {
     "data": {
      "application/vnd.jupyter.widget-view+json": {
       "model_id": "d534d880ca644fd49a20b3f46193fd59",
       "version_major": 2,
       "version_minor": 0
      },
      "text/plain": [
       "Step 22000 Validation:   0%|          | 0/178 [00:00<?, ?it/s]"
      ]
     },
     "metadata": {},
     "output_type": "display_data"
    },
    {
     "name": "stdout",
     "output_type": "stream",
     "text": [
      "Step 22000/100000 - Valid Loss: 2.3880, Valid Acc: 44.94%\n",
      "End of Training Data Pass 14: Avg Loss: 1.9181, Avg Acc: 53.99%\n",
      "End of Training Data Pass 15: Avg Loss: 2.0642, Avg Acc: 50.80%\n"
     ]
    },
    {
     "data": {
      "application/vnd.jupyter.widget-view+json": {
       "model_id": "08a2ce435870457f8e65982eec44debf",
       "version_major": 2,
       "version_minor": 0
      },
      "text/plain": [
       "Step 24000 Validation:   0%|          | 0/178 [00:00<?, ?it/s]"
      ]
     },
     "metadata": {},
     "output_type": "display_data"
    },
    {
     "name": "stdout",
     "output_type": "stream",
     "text": [
      "Step 24000/100000 - Valid Loss: 2.3028, Valid Acc: 47.94%\n",
      "End of Training Data Pass 16: Avg Loss: 1.8430, Avg Acc: 55.71%\n"
     ]
    },
    {
     "data": {
      "application/vnd.jupyter.widget-view+json": {
       "model_id": "d239ef5400f0423b84b81ea28ac1623a",
       "version_major": 2,
       "version_minor": 0
      },
      "text/plain": [
       "Step 26000 Validation:   0%|          | 0/178 [00:00<?, ?it/s]"
      ]
     },
     "metadata": {},
     "output_type": "display_data"
    },
    {
     "name": "stdout",
     "output_type": "stream",
     "text": [
      "Step 26000/100000 - Valid Loss: 2.1542, Valid Acc: 50.71%\n",
      "End of Training Data Pass 17: Avg Loss: 1.7194, Avg Acc: 58.04%\n"
     ]
    },
    {
     "data": {
      "application/vnd.jupyter.widget-view+json": {
       "model_id": "3bf7e414704d44838e2965601e8c76d1",
       "version_major": 2,
       "version_minor": 0
      },
      "text/plain": [
       "Step 28000 Validation:   0%|          | 0/178 [00:00<?, ?it/s]"
      ]
     },
     "metadata": {},
     "output_type": "display_data"
    },
    {
     "name": "stdout",
     "output_type": "stream",
     "text": [
      "Step 28000/100000 - Valid Loss: 1.9329, Valid Acc: 55.53%\n",
      "Best model updated at step 28000. Accuracy: 55.53%. Saved to ./speaker_model.ckpt\n",
      "End of Training Data Pass 18: Avg Loss: 1.5965, Avg Acc: 60.81%\n"
     ]
    },
    {
     "data": {
      "application/vnd.jupyter.widget-view+json": {
       "model_id": "ea45854d8e9e4a94a5f39fa5640123c1",
       "version_major": 2,
       "version_minor": 0
      },
      "text/plain": [
       "Step 30000 Validation:   0%|          | 0/178 [00:00<?, ?it/s]"
      ]
     },
     "metadata": {},
     "output_type": "display_data"
    },
    {
     "name": "stdout",
     "output_type": "stream",
     "text": [
      "Step 30000/100000 - Valid Loss: 1.8839, Valid Acc: 55.71%\n",
      "Best model updated at step 30000. Accuracy: 55.71%. Saved to ./speaker_model.ckpt\n",
      "End of Training Data Pass 19: Avg Loss: 1.5775, Avg Acc: 61.01%\n",
      "End of Training Data Pass 20: Avg Loss: 1.5096, Avg Acc: 62.34%\n"
     ]
    },
    {
     "data": {
      "application/vnd.jupyter.widget-view+json": {
       "model_id": "3a7c2084370c460fbac0495bae13e637",
       "version_major": 2,
       "version_minor": 0
      },
      "text/plain": [
       "Step 32000 Validation:   0%|          | 0/178 [00:00<?, ?it/s]"
      ]
     },
     "metadata": {},
     "output_type": "display_data"
    },
    {
     "name": "stdout",
     "output_type": "stream",
     "text": [
      "Step 32000/100000 - Valid Loss: 1.8685, Valid Acc: 57.17%\n",
      "Best model updated at step 32000. Accuracy: 57.17%. Saved to ./speaker_model.ckpt\n",
      "End of Training Data Pass 21: Avg Loss: 1.4669, Avg Acc: 63.60%\n"
     ]
    },
    {
     "data": {
      "application/vnd.jupyter.widget-view+json": {
       "model_id": "69bb233dad424283a8f2a10bb12d7cb0",
       "version_major": 2,
       "version_minor": 0
      },
      "text/plain": [
       "Step 34000 Validation:   0%|          | 0/178 [00:00<?, ?it/s]"
      ]
     },
     "metadata": {},
     "output_type": "display_data"
    },
    {
     "name": "stdout",
     "output_type": "stream",
     "text": [
      "Step 34000/100000 - Valid Loss: 1.9790, Valid Acc: 53.50%\n",
      "End of Training Data Pass 22: Avg Loss: 1.5511, Avg Acc: 61.60%\n"
     ]
    },
    {
     "data": {
      "application/vnd.jupyter.widget-view+json": {
       "model_id": "7dd90d92a12c429bbc1d72ba9b8914d0",
       "version_major": 2,
       "version_minor": 0
      },
      "text/plain": [
       "Step 36000 Validation:   0%|          | 0/178 [00:00<?, ?it/s]"
      ]
     },
     "metadata": {},
     "output_type": "display_data"
    },
    {
     "name": "stdout",
     "output_type": "stream",
     "text": [
      "Step 36000/100000 - Valid Loss: 1.8147, Valid Acc: 57.54%\n",
      "Best model updated at step 36000. Accuracy: 57.54%. Saved to ./speaker_model.ckpt\n",
      "End of Training Data Pass 23: Avg Loss: 1.4084, Avg Acc: 64.80%\n"
     ]
    },
    {
     "data": {
      "application/vnd.jupyter.widget-view+json": {
       "model_id": "0c019fe8793d47fd88dedbffcb8c5168",
       "version_major": 2,
       "version_minor": 0
      },
      "text/plain": [
       "Step 38000 Validation:   0%|          | 0/178 [00:00<?, ?it/s]"
      ]
     },
     "metadata": {},
     "output_type": "display_data"
    },
    {
     "name": "stdout",
     "output_type": "stream",
     "text": [
      "Step 38000/100000 - Valid Loss: 1.7091, Valid Acc: 59.93%\n",
      "Best model updated at step 38000. Accuracy: 59.93%. Saved to ./speaker_model.ckpt\n",
      "End of Training Data Pass 24: Avg Loss: 1.3556, Avg Acc: 65.98%\n",
      "End of Training Data Pass 25: Avg Loss: 1.3359, Avg Acc: 66.19%\n"
     ]
    },
    {
     "data": {
      "application/vnd.jupyter.widget-view+json": {
       "model_id": "51488538ee494f22ad4225e53a92d282",
       "version_major": 2,
       "version_minor": 0
      },
      "text/plain": [
       "Step 40000 Validation:   0%|          | 0/178 [00:00<?, ?it/s]"
      ]
     },
     "metadata": {},
     "output_type": "display_data"
    },
    {
     "name": "stdout",
     "output_type": "stream",
     "text": [
      "Step 40000/100000 - Valid Loss: 1.6529, Valid Acc: 61.16%\n",
      "Best model updated at step 40000. Accuracy: 61.16%. Saved to ./speaker_model.ckpt\n",
      "End of Training Data Pass 26: Avg Loss: 1.2966, Avg Acc: 67.20%\n"
     ]
    },
    {
     "data": {
      "application/vnd.jupyter.widget-view+json": {
       "model_id": "1b14af4326c440e3ac5ca6fc61ae2b93",
       "version_major": 2,
       "version_minor": 0
      },
      "text/plain": [
       "Step 42000 Validation:   0%|          | 0/178 [00:00<?, ?it/s]"
      ]
     },
     "metadata": {},
     "output_type": "display_data"
    },
    {
     "name": "stdout",
     "output_type": "stream",
     "text": [
      "Step 42000/100000 - Valid Loss: 1.6927, Valid Acc: 60.05%\n",
      "End of Training Data Pass 27: Avg Loss: 1.2614, Avg Acc: 68.03%\n"
     ]
    },
    {
     "data": {
      "application/vnd.jupyter.widget-view+json": {
       "model_id": "0e7497cdc46744df86eceb595295b870",
       "version_major": 2,
       "version_minor": 0
      },
      "text/plain": [
       "Step 44000 Validation:   0%|          | 0/178 [00:00<?, ?it/s]"
      ]
     },
     "metadata": {},
     "output_type": "display_data"
    },
    {
     "name": "stdout",
     "output_type": "stream",
     "text": [
      "Step 44000/100000 - Valid Loss: 1.6453, Valid Acc: 62.40%\n",
      "Best model updated at step 44000. Accuracy: 62.40%. Saved to ./speaker_model.ckpt\n",
      "End of Training Data Pass 28: Avg Loss: 1.1803, Avg Acc: 69.93%\n"
     ]
    },
    {
     "data": {
      "application/vnd.jupyter.widget-view+json": {
       "model_id": "0754a5d71e854daabf55f1af317591c7",
       "version_major": 2,
       "version_minor": 0
      },
      "text/plain": [
       "Step 46000 Validation:   0%|          | 0/178 [00:00<?, ?it/s]"
      ]
     },
     "metadata": {},
     "output_type": "display_data"
    },
    {
     "name": "stdout",
     "output_type": "stream",
     "text": [
      "Step 46000/100000 - Valid Loss: 1.6353, Valid Acc: 62.31%\n",
      "End of Training Data Pass 29: Avg Loss: 1.1795, Avg Acc: 70.04%\n",
      "End of Training Data Pass 30: Avg Loss: 1.1318, Avg Acc: 71.11%\n"
     ]
    },
    {
     "data": {
      "application/vnd.jupyter.widget-view+json": {
       "model_id": "96db3f6bf4be4796a925743be31540e1",
       "version_major": 2,
       "version_minor": 0
      },
      "text/plain": [
       "Step 48000 Validation:   0%|          | 0/178 [00:00<?, ?it/s]"
      ]
     },
     "metadata": {},
     "output_type": "display_data"
    },
    {
     "name": "stdout",
     "output_type": "stream",
     "text": [
      "Step 48000/100000 - Valid Loss: 1.6961, Valid Acc: 61.41%\n",
      "End of Training Data Pass 31: Avg Loss: 1.1515, Avg Acc: 70.54%\n"
     ]
    },
    {
     "data": {
      "application/vnd.jupyter.widget-view+json": {
       "model_id": "4f6e775787f24ffbb6e8555508d60f0f",
       "version_major": 2,
       "version_minor": 0
      },
      "text/plain": [
       "Step 50000 Validation:   0%|          | 0/178 [00:00<?, ?it/s]"
      ]
     },
     "metadata": {},
     "output_type": "display_data"
    },
    {
     "name": "stdout",
     "output_type": "stream",
     "text": [
      "Step 50000/100000 - Valid Loss: 1.5765, Valid Acc: 64.00%\n",
      "Best model updated at step 50000. Accuracy: 64.00%. Saved to ./speaker_model.ckpt\n",
      "End of Training Data Pass 32: Avg Loss: 1.0724, Avg Acc: 72.53%\n"
     ]
    },
    {
     "data": {
      "application/vnd.jupyter.widget-view+json": {
       "model_id": "8a290681deb04eeda03bd36f0e68881b",
       "version_major": 2,
       "version_minor": 0
      },
      "text/plain": [
       "Step 52000 Validation:   0%|          | 0/178 [00:00<?, ?it/s]"
      ]
     },
     "metadata": {},
     "output_type": "display_data"
    },
    {
     "name": "stdout",
     "output_type": "stream",
     "text": [
      "Step 52000/100000 - Valid Loss: 1.6783, Valid Acc: 61.90%\n",
      "End of Training Data Pass 33: Avg Loss: 1.1190, Avg Acc: 71.24%\n"
     ]
    },
    {
     "data": {
      "application/vnd.jupyter.widget-view+json": {
       "model_id": "4c41b279d5374c78bde7076ccf62084d",
       "version_major": 2,
       "version_minor": 0
      },
      "text/plain": [
       "Step 54000 Validation:   0%|          | 0/178 [00:00<?, ?it/s]"
      ]
     },
     "metadata": {},
     "output_type": "display_data"
    },
    {
     "name": "stdout",
     "output_type": "stream",
     "text": [
      "Step 54000/100000 - Valid Loss: 1.5736, Valid Acc: 64.55%\n",
      "Best model updated at step 54000. Accuracy: 64.55%. Saved to ./speaker_model.ckpt\n",
      "End of Training Data Pass 34: Avg Loss: 1.0839, Avg Acc: 72.30%\n",
      "End of Training Data Pass 35: Avg Loss: 1.0189, Avg Acc: 73.51%\n"
     ]
    },
    {
     "data": {
      "application/vnd.jupyter.widget-view+json": {
       "model_id": "be5d2ef26b934795997c3e5026d7e548",
       "version_major": 2,
       "version_minor": 0
      },
      "text/plain": [
       "Step 56000 Validation:   0%|          | 0/178 [00:00<?, ?it/s]"
      ]
     },
     "metadata": {},
     "output_type": "display_data"
    },
    {
     "name": "stdout",
     "output_type": "stream",
     "text": [
      "Step 56000/100000 - Valid Loss: 1.4881, Valid Acc: 65.64%\n",
      "Best model updated at step 56000. Accuracy: 65.64%. Saved to ./speaker_model.ckpt\n",
      "End of Training Data Pass 36: Avg Loss: 0.9599, Avg Acc: 75.11%\n"
     ]
    },
    {
     "data": {
      "application/vnd.jupyter.widget-view+json": {
       "model_id": "31cda62b5afb463a8c881d9da6f5aaf0",
       "version_major": 2,
       "version_minor": 0
      },
      "text/plain": [
       "Step 58000 Validation:   0%|          | 0/178 [00:00<?, ?it/s]"
      ]
     },
     "metadata": {},
     "output_type": "display_data"
    },
    {
     "name": "stdout",
     "output_type": "stream",
     "text": [
      "Step 58000/100000 - Valid Loss: 1.5025, Valid Acc: 66.33%\n",
      "Best model updated at step 58000. Accuracy: 66.33%. Saved to ./speaker_model.ckpt\n",
      "End of Training Data Pass 37: Avg Loss: 0.9076, Avg Acc: 76.52%\n"
     ]
    },
    {
     "data": {
      "application/vnd.jupyter.widget-view+json": {
       "model_id": "d9371421d5cd402282c64a57254b999b",
       "version_major": 2,
       "version_minor": 0
      },
      "text/plain": [
       "Step 60000 Validation:   0%|          | 0/178 [00:00<?, ?it/s]"
      ]
     },
     "metadata": {},
     "output_type": "display_data"
    },
    {
     "name": "stdout",
     "output_type": "stream",
     "text": [
      "Step 60000/100000 - Valid Loss: 1.3890, Valid Acc: 67.20%\n",
      "Best model updated at step 60000. Accuracy: 67.20%. Saved to ./speaker_model.ckpt\n",
      "End of Training Data Pass 38: Avg Loss: 0.9033, Avg Acc: 76.50%\n"
     ]
    },
    {
     "data": {
      "application/vnd.jupyter.widget-view+json": {
       "model_id": "d7be26f4bf9e4c729f5cc450b5755c30",
       "version_major": 2,
       "version_minor": 0
      },
      "text/plain": [
       "Step 62000 Validation:   0%|          | 0/178 [00:00<?, ?it/s]"
      ]
     },
     "metadata": {},
     "output_type": "display_data"
    },
    {
     "name": "stdout",
     "output_type": "stream",
     "text": [
      "Step 62000/100000 - Valid Loss: 1.3704, Valid Acc: 68.29%\n",
      "Best model updated at step 62000. Accuracy: 68.29%. Saved to ./speaker_model.ckpt\n",
      "End of Training Data Pass 39: Avg Loss: 0.8779, Avg Acc: 77.11%\n",
      "End of Training Data Pass 40: Avg Loss: 0.8419, Avg Acc: 78.07%\n"
     ]
    },
    {
     "data": {
      "application/vnd.jupyter.widget-view+json": {
       "model_id": "1aa0a22f828047b381afd61077435300",
       "version_major": 2,
       "version_minor": 0
      },
      "text/plain": [
       "Step 64000 Validation:   0%|          | 0/178 [00:00<?, ?it/s]"
      ]
     },
     "metadata": {},
     "output_type": "display_data"
    },
    {
     "name": "stdout",
     "output_type": "stream",
     "text": [
      "Step 64000/100000 - Valid Loss: 1.4338, Valid Acc: 68.52%\n",
      "Best model updated at step 64000. Accuracy: 68.52%. Saved to ./speaker_model.ckpt\n",
      "End of Training Data Pass 41: Avg Loss: 0.8270, Avg Acc: 78.26%\n"
     ]
    },
    {
     "data": {
      "application/vnd.jupyter.widget-view+json": {
       "model_id": "615a6b28e6b4459dbf8373be2d5a43e4",
       "version_major": 2,
       "version_minor": 0
      },
      "text/plain": [
       "Step 66000 Validation:   0%|          | 0/178 [00:00<?, ?it/s]"
      ]
     },
     "metadata": {},
     "output_type": "display_data"
    },
    {
     "name": "stdout",
     "output_type": "stream",
     "text": [
      "Step 66000/100000 - Valid Loss: 1.3987, Valid Acc: 68.11%\n",
      "End of Training Data Pass 42: Avg Loss: 0.8298, Avg Acc: 78.30%\n"
     ]
    },
    {
     "data": {
      "application/vnd.jupyter.widget-view+json": {
       "model_id": "6d797f9d856d4241b56fd59bbe61feaa",
       "version_major": 2,
       "version_minor": 0
      },
      "text/plain": [
       "Step 68000 Validation:   0%|          | 0/178 [00:00<?, ?it/s]"
      ]
     },
     "metadata": {},
     "output_type": "display_data"
    },
    {
     "name": "stdout",
     "output_type": "stream",
     "text": [
      "Step 68000/100000 - Valid Loss: 1.3060, Valid Acc: 70.41%\n",
      "Best model updated at step 68000. Accuracy: 70.41%. Saved to ./speaker_model.ckpt\n",
      "End of Training Data Pass 43: Avg Loss: 0.7746, Avg Acc: 79.69%\n"
     ]
    },
    {
     "data": {
      "application/vnd.jupyter.widget-view+json": {
       "model_id": "f5262d860d23474d93b88b999ce04621",
       "version_major": 2,
       "version_minor": 0
      },
      "text/plain": [
       "Step 70000 Validation:   0%|          | 0/178 [00:00<?, ?it/s]"
      ]
     },
     "metadata": {},
     "output_type": "display_data"
    },
    {
     "name": "stdout",
     "output_type": "stream",
     "text": [
      "Step 70000/100000 - Valid Loss: 1.3863, Valid Acc: 69.00%\n",
      "End of Training Data Pass 44: Avg Loss: 0.7642, Avg Acc: 79.81%\n",
      "End of Training Data Pass 45: Avg Loss: 0.7395, Avg Acc: 80.54%\n"
     ]
    },
    {
     "data": {
      "application/vnd.jupyter.widget-view+json": {
       "model_id": "b584df19c2424288a1fdffe721e04884",
       "version_major": 2,
       "version_minor": 0
      },
      "text/plain": [
       "Step 72000 Validation:   0%|          | 0/178 [00:00<?, ?it/s]"
      ]
     },
     "metadata": {},
     "output_type": "display_data"
    },
    {
     "name": "stdout",
     "output_type": "stream",
     "text": [
      "Step 72000/100000 - Valid Loss: 1.2879, Valid Acc: 70.65%\n",
      "Best model updated at step 72000. Accuracy: 70.65%. Saved to ./speaker_model.ckpt\n",
      "End of Training Data Pass 46: Avg Loss: 0.7141, Avg Acc: 81.05%\n"
     ]
    },
    {
     "data": {
      "application/vnd.jupyter.widget-view+json": {
       "model_id": "26f5b0fafd8a4ad59ab4d12a392737db",
       "version_major": 2,
       "version_minor": 0
      },
      "text/plain": [
       "Step 74000 Validation:   0%|          | 0/178 [00:00<?, ?it/s]"
      ]
     },
     "metadata": {},
     "output_type": "display_data"
    },
    {
     "name": "stdout",
     "output_type": "stream",
     "text": [
      "Step 74000/100000 - Valid Loss: 1.3145, Valid Acc: 70.48%\n",
      "End of Training Data Pass 47: Avg Loss: 0.6914, Avg Acc: 81.75%\n"
     ]
    },
    {
     "data": {
      "application/vnd.jupyter.widget-view+json": {
       "model_id": "e333b582f4244400837dd2041a2b803b",
       "version_major": 2,
       "version_minor": 0
      },
      "text/plain": [
       "Step 76000 Validation:   0%|          | 0/178 [00:00<?, ?it/s]"
      ]
     },
     "metadata": {},
     "output_type": "display_data"
    },
    {
     "name": "stdout",
     "output_type": "stream",
     "text": [
      "Step 76000/100000 - Valid Loss: 1.2974, Valid Acc: 71.34%\n",
      "Best model updated at step 76000. Accuracy: 71.34%. Saved to ./speaker_model.ckpt\n",
      "End of Training Data Pass 48: Avg Loss: 0.6684, Avg Acc: 82.32%\n"
     ]
    },
    {
     "data": {
      "application/vnd.jupyter.widget-view+json": {
       "model_id": "ec20c41337d74e6d8b0693265ca23e76",
       "version_major": 2,
       "version_minor": 0
      },
      "text/plain": [
       "Step 78000 Validation:   0%|          | 0/178 [00:00<?, ?it/s]"
      ]
     },
     "metadata": {},
     "output_type": "display_data"
    },
    {
     "name": "stdout",
     "output_type": "stream",
     "text": [
      "Step 78000/100000 - Valid Loss: 1.2908, Valid Acc: 71.84%\n",
      "Best model updated at step 78000. Accuracy: 71.84%. Saved to ./speaker_model.ckpt\n",
      "End of Training Data Pass 49: Avg Loss: 0.6629, Avg Acc: 82.34%\n",
      "End of Training Data Pass 50: Avg Loss: 0.6405, Avg Acc: 83.17%\n"
     ]
    },
    {
     "data": {
      "application/vnd.jupyter.widget-view+json": {
       "model_id": "d08d227446fd434b890bd9dd3e2e29ef",
       "version_major": 2,
       "version_minor": 0
      },
      "text/plain": [
       "Step 80000 Validation:   0%|          | 0/178 [00:00<?, ?it/s]"
      ]
     },
     "metadata": {},
     "output_type": "display_data"
    },
    {
     "name": "stdout",
     "output_type": "stream",
     "text": [
      "Step 80000/100000 - Valid Loss: 1.2544, Valid Acc: 71.54%\n",
      "End of Training Data Pass 51: Avg Loss: 0.6209, Avg Acc: 83.85%\n"
     ]
    },
    {
     "data": {
      "application/vnd.jupyter.widget-view+json": {
       "model_id": "9f576d26e0df4b17a865e9ea1dec777b",
       "version_major": 2,
       "version_minor": 0
      },
      "text/plain": [
       "Step 82000 Validation:   0%|          | 0/178 [00:00<?, ?it/s]"
      ]
     },
     "metadata": {},
     "output_type": "display_data"
    },
    {
     "name": "stdout",
     "output_type": "stream",
     "text": [
      "Step 82000/100000 - Valid Loss: 1.2514, Valid Acc: 72.38%\n",
      "Best model updated at step 82000. Accuracy: 72.38%. Saved to ./speaker_model.ckpt\n",
      "End of Training Data Pass 52: Avg Loss: 0.6047, Avg Acc: 83.95%\n"
     ]
    },
    {
     "data": {
      "application/vnd.jupyter.widget-view+json": {
       "model_id": "4609bae2bf9a4ae88bd4bd5f0a1be5b8",
       "version_major": 2,
       "version_minor": 0
      },
      "text/plain": [
       "Step 84000 Validation:   0%|          | 0/178 [00:00<?, ?it/s]"
      ]
     },
     "metadata": {},
     "output_type": "display_data"
    },
    {
     "name": "stdout",
     "output_type": "stream",
     "text": [
      "Step 84000/100000 - Valid Loss: 1.2368, Valid Acc: 72.03%\n",
      "End of Training Data Pass 53: Avg Loss: 0.6022, Avg Acc: 84.03%\n"
     ]
    },
    {
     "data": {
      "application/vnd.jupyter.widget-view+json": {
       "model_id": "1604bca5c6a84e63ab03137e09f0aea6",
       "version_major": 2,
       "version_minor": 0
      },
      "text/plain": [
       "Step 86000 Validation:   0%|          | 0/178 [00:00<?, ?it/s]"
      ]
     },
     "metadata": {},
     "output_type": "display_data"
    },
    {
     "name": "stdout",
     "output_type": "stream",
     "text": [
      "Step 86000/100000 - Valid Loss: 1.2457, Valid Acc: 73.00%\n",
      "Best model updated at step 86000. Accuracy: 73.00%. Saved to ./speaker_model.ckpt\n",
      "End of Training Data Pass 54: Avg Loss: 0.5933, Avg Acc: 84.25%\n",
      "End of Training Data Pass 55: Avg Loss: 0.5803, Avg Acc: 84.73%\n"
     ]
    },
    {
     "data": {
      "application/vnd.jupyter.widget-view+json": {
       "model_id": "08823f729af14347972a0b2c9b3b2072",
       "version_major": 2,
       "version_minor": 0
      },
      "text/plain": [
       "Step 88000 Validation:   0%|          | 0/178 [00:00<?, ?it/s]"
      ]
     },
     "metadata": {},
     "output_type": "display_data"
    },
    {
     "name": "stdout",
     "output_type": "stream",
     "text": [
      "Step 88000/100000 - Valid Loss: 1.2183, Valid Acc: 73.13%\n",
      "Best model updated at step 88000. Accuracy: 73.13%. Saved to ./speaker_model.ckpt\n",
      "End of Training Data Pass 56: Avg Loss: 0.5705, Avg Acc: 84.88%\n"
     ]
    },
    {
     "data": {
      "application/vnd.jupyter.widget-view+json": {
       "model_id": "b118242522114bb2876ef37bd4f495d1",
       "version_major": 2,
       "version_minor": 0
      },
      "text/plain": [
       "Step 90000 Validation:   0%|          | 0/178 [00:00<?, ?it/s]"
      ]
     },
     "metadata": {},
     "output_type": "display_data"
    },
    {
     "name": "stdout",
     "output_type": "stream",
     "text": [
      "Step 90000/100000 - Valid Loss: 1.2109, Valid Acc: 73.14%\n",
      "Best model updated at step 90000. Accuracy: 73.14%. Saved to ./speaker_model.ckpt\n",
      "End of Training Data Pass 57: Avg Loss: 0.5687, Avg Acc: 85.00%\n"
     ]
    },
    {
     "data": {
      "application/vnd.jupyter.widget-view+json": {
       "model_id": "3a28f81a5b6148f08c83266229d89bfd",
       "version_major": 2,
       "version_minor": 0
      },
      "text/plain": [
       "Step 92000 Validation:   0%|          | 0/178 [00:00<?, ?it/s]"
      ]
     },
     "metadata": {},
     "output_type": "display_data"
    },
    {
     "name": "stdout",
     "output_type": "stream",
     "text": [
      "Step 92000/100000 - Valid Loss: 1.2154, Valid Acc: 72.93%\n",
      "End of Training Data Pass 58: Avg Loss: 0.5580, Avg Acc: 85.25%\n",
      "End of Training Data Pass 59: Avg Loss: 0.5487, Avg Acc: 85.51%\n"
     ]
    },
    {
     "data": {
      "application/vnd.jupyter.widget-view+json": {
       "model_id": "ed20d852d25448b58cfb548d4276cfce",
       "version_major": 2,
       "version_minor": 0
      },
      "text/plain": [
       "Step 94000 Validation:   0%|          | 0/178 [00:00<?, ?it/s]"
      ]
     },
     "metadata": {},
     "output_type": "display_data"
    },
    {
     "name": "stdout",
     "output_type": "stream",
     "text": [
      "Step 94000/100000 - Valid Loss: 1.2422, Valid Acc: 72.47%\n",
      "End of Training Data Pass 60: Avg Loss: 0.5533, Avg Acc: 85.46%\n"
     ]
    },
    {
     "data": {
      "application/vnd.jupyter.widget-view+json": {
       "model_id": "867a974258254c9aa58f76f3c76ecf55",
       "version_major": 2,
       "version_minor": 0
      },
      "text/plain": [
       "Step 96000 Validation:   0%|          | 0/178 [00:00<?, ?it/s]"
      ]
     },
     "metadata": {},
     "output_type": "display_data"
    },
    {
     "name": "stdout",
     "output_type": "stream",
     "text": [
      "Step 96000/100000 - Valid Loss: 1.2206, Valid Acc: 72.83%\n",
      "End of Training Data Pass 61: Avg Loss: 0.5508, Avg Acc: 85.37%\n"
     ]
    },
    {
     "data": {
      "application/vnd.jupyter.widget-view+json": {
       "model_id": "f4302da800e243b6963f87127d9aad1f",
       "version_major": 2,
       "version_minor": 0
      },
      "text/plain": [
       "Step 98000 Validation:   0%|          | 0/178 [00:00<?, ?it/s]"
      ]
     },
     "metadata": {},
     "output_type": "display_data"
    },
    {
     "name": "stdout",
     "output_type": "stream",
     "text": [
      "Step 98000/100000 - Valid Loss: 1.2151, Valid Acc: 73.55%\n",
      "Best model updated at step 98000. Accuracy: 73.55%. Saved to ./speaker_model.ckpt\n",
      "End of Training Data Pass 62: Avg Loss: 0.5442, Avg Acc: 85.64%\n"
     ]
    },
    {
     "data": {
      "application/vnd.jupyter.widget-view+json": {
       "model_id": "e919e1ce86524f5d867f0931dd2af530",
       "version_major": 2,
       "version_minor": 0
      },
      "text/plain": [
       "Step 100000 Validation:   0%|          | 0/178 [00:00<?, ?it/s]"
      ]
     },
     "metadata": {},
     "output_type": "display_data"
    },
    {
     "name": "stdout",
     "output_type": "stream",
     "text": [
      "Step 100000/100000 - Valid Loss: 1.2291, Valid Acc: 73.18%\n",
      "\n",
      "Training finished. Best validation accuracy: 73.5486%\n",
      "Best model saved to ./speaker_model.ckpt\n",
      "Training complete. Best validation accuracy: 73.55%\n"
     ]
    }
   ],
   "source": [
    "train()\n"
   ]
  },
  {
   "cell_type": "markdown",
   "id": "25faedd3",
   "metadata": {},
   "source": [
    "## Tensorboard"
   ]
  },
  {
   "cell_type": "code",
   "execution_count": 71,
   "id": "106b3a70",
   "metadata": {},
   "outputs": [
    {
     "data": {
      "text/plain": [
       "Reusing TensorBoard on port 6006 (pid 86512), started 3 days, 7:59:04 ago. (Use '!kill 86512' to kill it.)"
      ]
     },
     "metadata": {},
     "output_type": "display_data"
    },
    {
     "data": {
      "text/html": [
       "\n",
       "      <iframe id=\"tensorboard-frame-f49723c53c8d2a7e\" width=\"100%\" height=\"800\" frameborder=\"0\">\n",
       "      </iframe>\n",
       "      <script>\n",
       "        (function() {\n",
       "          const frame = document.getElementById(\"tensorboard-frame-f49723c53c8d2a7e\");\n",
       "          const url = new URL(\"http://localhost\");\n",
       "          const port = 6006;\n",
       "          if (port) {\n",
       "            url.port = port;\n",
       "          }\n",
       "          frame.src = url;\n",
       "        })();\n",
       "      </script>\n",
       "    "
      ],
      "text/plain": [
       "<IPython.core.display.HTML object>"
      ]
     },
     "metadata": {},
     "output_type": "display_data"
    }
   ],
   "source": [
    "%reload_ext tensorboard\n",
    "%tensorboard --logdir=./runs/  --port 6006\n"
   ]
  },
  {
   "cell_type": "markdown",
   "id": "58f287e7",
   "metadata": {},
   "source": [
    "# Test & Predict"
   ]
  },
  {
   "cell_type": "code",
   "execution_count": 72,
   "id": "fa76ffc0",
   "metadata": {},
   "outputs": [
    {
     "name": "stdout",
     "output_type": "stream",
     "text": [
      "[Info]: Finish loading data!\n",
      "[Info]: Finish creating model!\n"
     ]
    },
    {
     "data": {
      "application/vnd.jupyter.widget-view+json": {
       "model_id": "3ca7c50739394f5da2dea48e053f9983",
       "version_major": 2,
       "version_minor": 0
      },
      "text/plain": [
       "  0%|          | 0/8000 [00:00<?, ?it/s]"
      ]
     },
     "metadata": {},
     "output_type": "display_data"
    }
   ],
   "source": [
    "# inference Dataset\n",
    "class InferenceDataset(Dataset):\n",
    "\n",
    "    def __init__(self, data_dir_val):\n",
    "        testdata_path = Path(data_dir_val) / \"testdata.json\"\n",
    "        metadata = json.load(testdata_path.open())\n",
    "        self.data_dir = data_dir_val\n",
    "        self.data = metadata[\"utterances\"]\n",
    "\n",
    "    def __len__(self):\n",
    "        return len(self.data)\n",
    "\n",
    "    def __getitem__(self, index):\n",
    "        utterance = self.data[index]\n",
    "        feat_path = utterance[\"feature_path\"]\n",
    "        mel = torch.load(os.path.join(self.data_dir, feat_path))\n",
    "        mel = torch.FloatTensor(mel)\n",
    "        return feat_path, mel\n",
    "\n",
    "\n",
    "# inference collate function\n",
    "def inference_collate_batch(batch):\n",
    "    feat_paths, mels = zip(*batch)\n",
    "    mels_padded = pad_sequence(mels, batch_first=True, padding_value=-20)\n",
    "    return feat_paths, mels_padded\n",
    "\n",
    "\n",
    "# create submission file\n",
    "def create_submission(device_val):\n",
    "    mapping_path = Path(data_dir) / \"mapping.json\"\n",
    "    mapping = json.load(mapping_path.open())\n",
    "\n",
    "    dataset = InferenceDataset(data_dir)\n",
    "    dataloader = DataLoader(\n",
    "        dataset,\n",
    "        batch_size=1,\n",
    "        shuffle=False,\n",
    "        drop_last=False,\n",
    "        num_workers=num_workers,\n",
    "        collate_fn=inference_collate_batch,\n",
    "    )\n",
    "    print(f\"[Info]: Finish loading data!\", flush=True)\n",
    "\n",
    "    speaker_num = len(mapping[\"id2speaker\"])\n",
    "    model = Classifier(d_model=d_model,\n",
    "                       num_encoder_layers=num_encoder_layers,\n",
    "                       dim_feedforward=dim_feedforward,\n",
    "                       num_heads=num_heads,\n",
    "                       dropout_rate=0).to(device)\n",
    "    model.load_state_dict(torch.load(model_save_path))\n",
    "    model.eval()\n",
    "    print(f\"[Info]: Finish creating model!\", flush=True)\n",
    "\n",
    "    results = [[\"Id\", \"Category\"]]\n",
    "    for feat_paths, mels in tqdm(dataloader):\n",
    "        with torch.no_grad():\n",
    "            mels = mels.to(device)\n",
    "            outs = model(mels)\n",
    "            preds = outs.argmax(1).cpu().numpy()\n",
    "            for feat_path, pred in zip(feat_paths, preds):\n",
    "                results.append([feat_path, mapping[\"id2speaker\"][str(pred)]])\n",
    "\n",
    "    with open(submission_path, 'w', newline='') as csvfile:\n",
    "        writer = csv.writer(csvfile)\n",
    "        writer.writerows(results)\n",
    "\n",
    "\n",
    "# Run inference\n",
    "create_submission(device)\n"
   ]
  }
 ],
 "metadata": {
  "kernelspec": {
   "display_name": "pytorch",
   "language": "python",
   "name": "python3"
  },
  "language_info": {
   "codemirror_mode": {
    "name": "ipython",
    "version": 3
   },
   "file_extension": ".py",
   "mimetype": "text/x-python",
   "name": "python",
   "nbconvert_exporter": "python",
   "pygments_lexer": "ipython3",
   "version": "3.12.0"
  }
 },
 "nbformat": 4,
 "nbformat_minor": 5
}
