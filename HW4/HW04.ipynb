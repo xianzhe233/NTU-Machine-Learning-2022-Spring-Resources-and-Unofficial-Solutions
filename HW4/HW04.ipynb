{
 "cells": [
  {
   "cell_type": "markdown",
   "id": "d714ab3a",
   "metadata": {
    "vscode": {
     "languageId": "plaintext"
    }
   },
   "source": [
    "# HW4 Speakers Classification"
   ]
  },
  {
   "cell_type": "markdown",
   "id": "394023fe",
   "metadata": {},
   "source": [
    "---"
   ]
  },
  {
   "cell_type": "markdown",
   "id": "949426dc",
   "metadata": {},
   "source": [
    "# Get Data"
   ]
  },
  {
   "cell_type": "markdown",
   "id": "14fa792b",
   "metadata": {},
   "source": [
    "## Download Data (These links are no longer working, I finally downloaded these on Kaggle)"
   ]
  },
  {
   "cell_type": "code",
   "execution_count": 50,
   "id": "49202bc0",
   "metadata": {},
   "outputs": [],
   "source": [
    "# !curl -L \"https://github.com/MachineLearningHW/ML_HW4_Dataset/releases/latest/download/Dataset.tar.gz.partaa\" -o Dataset.tar.gz.partaa\n",
    "\n",
    "# !curl -L \"https://github.com/MachineLearningHW/ML_HW4_Dataset/releases/latest/download/Dataset.tar.gz.partab\" -o Dataset.tar.gz.partab\n",
    "\n",
    "# !curl -L \"https://github.com/MachineLearningHW/ML_HW4_Dataset/releases/latest/download/Dataset.tar.gz.partac\" -o Dataset.tar.gz.partac\n",
    "\n",
    "# !curl -L \"https://github.com/MachineLearningHW/ML_HW4_Dataset/releases/latest/download/Dataset.tar.gz.partad\" -o Dataset.tar.gz.partad\n",
    "\n",
    "# !copy /b Dataset.tar.gz.part* Dataset.tar.gz\n",
    "\n",
    "# !tar -zxvf Dataset.tar.gz\n"
   ]
  },
  {
   "cell_type": "markdown",
   "id": "fbeed095",
   "metadata": {},
   "source": [
    "## Manually Unzip"
   ]
  },
  {
   "cell_type": "markdown",
   "id": "e8de3e8f",
   "metadata": {},
   "source": [
    "---"
   ]
  },
  {
   "cell_type": "markdown",
   "id": "6e22d198",
   "metadata": {},
   "source": [
    "# Preparation"
   ]
  },
  {
   "cell_type": "markdown",
   "id": "6cc49604",
   "metadata": {},
   "source": [
    "## Importing"
   ]
  },
  {
   "cell_type": "code",
   "execution_count": 9,
   "id": "9e056f5a",
   "metadata": {},
   "outputs": [],
   "source": [
    "import os\n",
    "import json\n",
    "import math\n",
    "from pathlib import Path\n",
    "\n",
    "import numpy as np\n",
    "import pandas as pd\n",
    "import csv\n",
    "import torch\n",
    "import torch.nn as nn\n",
    "import torch.nn.functional as F\n",
    "from torch.optim import Optimizer, AdamW\n",
    "from torch.optim.lr_scheduler import LambdaLR\n",
    "from torch.nn.utils.rnn import pad_sequence\n",
    "from torch.utils.data import ConcatDataset, DataLoader, Subset, Dataset, random_split\n",
    "\n",
    "from tqdm.auto import tqdm, trange\n",
    "import random\n",
    "\n",
    "from torch.utils.tensorboard import SummaryWriter\n"
   ]
  },
  {
   "cell_type": "markdown",
   "id": "75b447c5",
   "metadata": {},
   "source": [
    "## Define Dataset"
   ]
  },
  {
   "cell_type": "code",
   "execution_count": 10,
   "id": "f6440585",
   "metadata": {},
   "outputs": [],
   "source": [
    "class MyDataset(Dataset):\n",
    "\n",
    "    def __init__(self, data_dir, segment_len=128):\n",
    "        self.data_dir = data_dir\n",
    "        self.segment_len = segment_len\n",
    "\n",
    "        mapping_path = Path(data_dir) / \"mapping.json\"\n",
    "        mapping = json.load(mapping_path.open())\n",
    "        self.speaker2id = mapping[\"speaker2id\"]\n",
    "\n",
    "        metadata_path = Path(data_dir) / \"metadata.json\"\n",
    "        metadata = json.load(open(metadata_path))[\"speakers\"]\n",
    "\n",
    "        self.speaker_num = len(metadata.keys())\n",
    "        self.data = []\n",
    "        for speaker in metadata.keys():\n",
    "            for utterances in metadata[speaker]:\n",
    "                self.data.append(\n",
    "                    [utterances[\"feature_path\"], self.speaker2id[speaker]])\n",
    "\n",
    "    def __len__(self):\n",
    "        return len(self.data)\n",
    "\n",
    "    def __getitem__(self, index):\n",
    "        feat_path, speaker_id = self.data[index]\n",
    "        mel = torch.load(os.path.join(self.data_dir, feat_path))\n",
    "\n",
    "        if len(mel) > self.segment_len:\n",
    "            start = random.randint(0, len(mel) - self.segment_len)\n",
    "            mel = torch.FloatTensor(mel[start:start + self.segment_len])\n",
    "        else:\n",
    "            mel = torch.FloatTensor(mel)\n",
    "\n",
    "        speaker_id = torch.tensor(speaker_id, dtype=torch.long)\n",
    "        return mel, speaker_id\n",
    "\n",
    "    def get_speaker_number(self):\n",
    "        return self.speaker_num\n"
   ]
  },
  {
   "cell_type": "markdown",
   "id": "a7040dc5",
   "metadata": {},
   "source": [
    "## Define Dataloader"
   ]
  },
  {
   "cell_type": "code",
   "execution_count": 11,
   "id": "a0b4dfdd",
   "metadata": {},
   "outputs": [],
   "source": [
    "def collate_batch(batch):\n",
    "    mel, speaker = zip(*batch)\n",
    "    mel = pad_sequence(mel, batch_first=True, padding_value=-20)\n",
    "    speaker = torch.stack(speaker)\n",
    "    return mel, speaker\n",
    "\n",
    "\n",
    "def get_dataloader(data_dir_val,\n",
    "                   batch_size_val,\n",
    "                   n_workers_val,\n",
    "                   segment_len_val=128):\n",
    "    dataset = MyDataset(data_dir_val, segment_len=segment_len_val)\n",
    "    speaker_num_val = dataset.get_speaker_number()\n",
    "\n",
    "    train_length = int(0.9 * len(dataset))\n",
    "    lengths = [train_length, len(dataset) - train_length]\n",
    "    train_dataset, val_dataset = random_split(dataset, lengths)\n",
    "\n",
    "    train_loader = DataLoader(\n",
    "        train_dataset,\n",
    "        batch_size=batch_size_val,\n",
    "        shuffle=True,\n",
    "        drop_last=True,\n",
    "        num_workers=n_workers_val,\n",
    "        pin_memory=True,\n",
    "        collate_fn=collate_batch,\n",
    "    )\n",
    "    valid_loader = DataLoader(\n",
    "        val_dataset,\n",
    "        batch_size=batch_size_val,\n",
    "        shuffle=False,\n",
    "        drop_last=False,\n",
    "        num_workers=n_workers_val,\n",
    "        pin_memory=True,\n",
    "        collate_fn=collate_batch,\n",
    "    )\n",
    "    return train_loader, valid_loader, speaker_num_val\n"
   ]
  },
  {
   "cell_type": "markdown",
   "id": "705f79b4",
   "metadata": {},
   "source": [
    "## Define Model"
   ]
  },
  {
   "cell_type": "code",
   "execution_count": 12,
   "id": "be4c3312",
   "metadata": {},
   "outputs": [],
   "source": [
    "class Classifier(nn.Module):\n",
    "\n",
    "    def __init__(self, d_model=80, num_speakers=600, dropout=0.1):\n",
    "        super().__init__()\n",
    "        # Project the dimension of features from that of input into d_model.\n",
    "        self.prenet = nn.Linear(40, d_model)\n",
    "        # TODO:\n",
    "        #   Change Transformer to Conformer.\n",
    "        #   https://arxiv.org/abs/2005.08100\n",
    "        self.encoder_layer = nn.TransformerEncoderLayer(d_model=d_model,\n",
    "                                                        dim_feedforward=256,\n",
    "                                                        nhead=2)\n",
    "        # self.encoder = nn.TransformerEncoder(self.encoder_layer, num_layers=2)\n",
    "\n",
    "        # Project the the dimension of features from d_model into speaker nums.\n",
    "        self.pred_layer = nn.Sequential(\n",
    "            nn.Linear(d_model, d_model),\n",
    "            nn.ReLU(),\n",
    "            nn.Linear(d_model, num_speakers),\n",
    "        )\n",
    "\n",
    "    def forward(self, mels):\n",
    "        \"\"\"\n",
    "\t\targs:\n",
    "\t\t\tmels: (batch size, length, 40)\n",
    "\t\treturn:\n",
    "\t\t\tout: (batch size, num_speakers)\n",
    "\t\t\"\"\"\n",
    "        # out: (batch size, length, d_model)\n",
    "        out = self.prenet(mels)\n",
    "        # out: (length, batch size, d_model)\n",
    "        out = out.permute(1, 0, 2)\n",
    "        # The encoder layer expect features in the shape of (length, batch size, d_model).\n",
    "        out = self.encoder_layer(out)\n",
    "        # out: (batch size, length, d_model)\n",
    "        out = out.transpose(0, 1)\n",
    "        # mean pooling\n",
    "        stats = out.mean(dim=1)\n",
    "\n",
    "        # out: (batch, num_speakers)\n",
    "        out = self.pred_layer(stats)\n",
    "        return out\n"
   ]
  },
  {
   "cell_type": "markdown",
   "id": "84b617fc",
   "metadata": {},
   "source": [
    "## Fixing seed"
   ]
  },
  {
   "cell_type": "code",
   "execution_count": 13,
   "id": "22104dd1",
   "metadata": {},
   "outputs": [],
   "source": [
    "def same_seeds(seed):\n",
    "    torch.manual_seed(seed)\n",
    "    if torch.cuda.is_available():\n",
    "        torch.cuda.manual_seed(seed)\n",
    "        torch.cuda.manual_seed_all(seed)\n",
    "    np.random.seed(seed)\n",
    "    torch.backends.cudnn.benchmark = False\n",
    "    torch.backends.cudnn.deterministic = True\n"
   ]
  },
  {
   "cell_type": "markdown",
   "id": "055a7418",
   "metadata": {},
   "source": [
    "## Hyperparameters"
   ]
  },
  {
   "cell_type": "code",
   "execution_count": 14,
   "id": "ed8e1e9f",
   "metadata": {},
   "outputs": [
    {
     "name": "stdout",
     "output_type": "stream",
     "text": [
      "Using device: cuda\n"
     ]
    }
   ],
   "source": [
    "# general paths and settings\n",
    "data_dir = \"./Dataset\"\n",
    "model_save_path = \"./speaker_model.ckpt\"\n",
    "submission_path = \"./submission.csv\"\n",
    "tensorboard_log_dir = \"./runs/speaker_classification\"\n",
    "seed = 3407\n",
    "\n",
    "# training parameters\n",
    "batch_size = 32\n",
    "num_workers = 0\n",
    "num_speakers = 600  # will be determined from the dataset\n",
    "\n",
    "# model parameters (transformer related)\n",
    "d_model = 80\n",
    "n_head = 2\n",
    "dim_feedforward = 256\n",
    "dropout_rate = 0.1\n",
    "num_encoder_layers = 2\n",
    "\n",
    "# optimizer and scheduler parameters\n",
    "learning_rate = 1e-3\n",
    "num_warmup_steps = 1000\n",
    "total_steps = 70000\n",
    "\n",
    "# training control\n",
    "valid_steps = 2000\n",
    "early_stop_patience = 10\n",
    "\n",
    "# apply seed\n",
    "same_seeds(seed)\n",
    "\n",
    "# device configuration\n",
    "device = torch.device(\"cuda\" if torch.cuda.is_available() else \"cpu\")\n",
    "print(f\"Using device: {device}\")\n"
   ]
  },
  {
   "cell_type": "markdown",
   "id": "8e378978",
   "metadata": {},
   "source": [
    "## Training Utilities"
   ]
  },
  {
   "cell_type": "code",
   "execution_count": 15,
   "id": "3a72321d",
   "metadata": {},
   "outputs": [],
   "source": [
    "def get_cosine_schedule_with_warmup(\n",
    "    optimizer: Optimizer,\n",
    "    num_warmup_steps: int,\n",
    "    num_training_steps: int,\n",
    "    num_cycles: float = 0.5,\n",
    "    last_epoch: int = -1,\n",
    "):\n",
    "\n",
    "    def lr_lambda(current_step):\n",
    "        if current_step < num_warmup_steps:\n",
    "            return float(current_step) / float(max(1, num_warmup_steps))\n",
    "        progress = float(current_step - num_warmup_steps) / float(\n",
    "            max(1, num_training_steps - num_warmup_steps))\n",
    "        return max(\n",
    "            0.0, 0.5 *\n",
    "            (1.0 + math.cos(math.pi * float(num_cycles) * 2.0 * progress)))\n",
    "\n",
    "    return LambdaLR(optimizer, lr_lambda, last_epoch)\n",
    "\n",
    "\n",
    "def model_fn_speaker(batch, model, criterion_val, device_val):\n",
    "    mels, labels = batch\n",
    "    mels = mels.to(device_val)\n",
    "    labels = labels.to(device_val)\n",
    "\n",
    "    outs = model(mels)\n",
    "    loss = criterion_val(outs, labels)\n",
    "\n",
    "    preds = outs.argmax(1)\n",
    "    accuracy = torch.mean((preds == labels).float())\n",
    "\n",
    "    return loss, accuracy\n",
    "\n",
    "\n",
    "def validate_speaker_model(valid_loader_val,\n",
    "                           model_val,\n",
    "                           criterion_val,\n",
    "                           device_val,\n",
    "                           current_step_or_epoch,\n",
    "                           writer_tb=None,\n",
    "                           pbar_desc_prefix=\"\"):\n",
    "    model_val.eval()\n",
    "    epoch_valid_loss = 0.0\n",
    "    epoch_valid_corrects = 0\n",
    "    num_valid_samples = 0\n",
    "\n",
    "    batch_pbar = tqdm(valid_loader_val,\n",
    "                      leave=False,\n",
    "                      desc=f\"{pbar_desc_prefix} Validation\")\n",
    "    with torch.no_grad():\n",
    "        for features, labels in batch_pbar:\n",
    "            features = features.to(device_val)\n",
    "            labels = labels.to(device_val)\n",
    "\n",
    "            outputs = model_val(features)\n",
    "            loss = criterion_val(outputs, labels)\n",
    "\n",
    "            preds = outputs.argmax(dim=-1)\n",
    "            epoch_valid_loss += loss.item() * features.size(0)\n",
    "            epoch_valid_corrects += (preds == labels).sum().item()\n",
    "            num_valid_samples += features.size(0)\n",
    "\n",
    "            batch_pbar.set_postfix(\n",
    "                loss=f\"{loss.item():.4f}\",\n",
    "                acc=f\"{(preds == labels).sum().item()/features.size(0):.2%}\")\n",
    "\n",
    "    avg_epoch_valid_loss = epoch_valid_loss / num_valid_samples if num_valid_samples > 0 else 0\n",
    "    avg_epoch_valid_acc = epoch_valid_corrects / num_valid_samples if num_valid_samples > 0 else 0\n",
    "\n",
    "    if writer_tb:\n",
    "        writer_tb.add_scalar('Loss/valid_step', avg_epoch_valid_loss,\n",
    "                             current_step_or_epoch)\n",
    "        writer_tb.add_scalar('Accuracy/valid_step', avg_epoch_valid_acc,\n",
    "                             current_step_or_epoch)\n",
    "\n",
    "    model_val.train()\n",
    "    return avg_epoch_valid_loss, avg_epoch_valid_acc\n"
   ]
  },
  {
   "cell_type": "code",
   "execution_count": 16,
   "id": "93980106",
   "metadata": {},
   "outputs": [],
   "source": [
    "def train_speaker_model(model_to_train, train_loader_val, valid_loader_val,\n",
    "                        criterion_val, optimizer_val, scheduler_val,\n",
    "                        device_val):\n",
    "    tb_writer = SummaryWriter(log_dir=tensorboard_log_dir)\n",
    "\n",
    "    best_valid_acc = 0.0\n",
    "    best_model_state_dict = None\n",
    "    epochs_no_improve = 0\n",
    "\n",
    "    train_iterator = iter(train_loader_val)\n",
    "\n",
    "    epoch_running_loss = 0.0\n",
    "    epoch_running_corrects = 0\n",
    "    epoch_num_samples = 0\n",
    "    completed_data_passes = 0\n",
    "\n",
    "    pbar_total_steps = tqdm(range(total_steps), desc=\"Total Training Steps\")\n",
    "\n",
    "    for step in pbar_total_steps:\n",
    "        model_to_train.train()\n",
    "\n",
    "        try:\n",
    "            batch = next(train_iterator)\n",
    "        except StopIteration:\n",
    "            if epoch_num_samples > 0:\n",
    "                current_pass_avg_loss = epoch_running_loss / epoch_num_samples\n",
    "                current_pass_avg_acc = epoch_running_corrects / epoch_num_samples\n",
    "                pbar_total_steps.write(\n",
    "                    f\"End of Training Data Pass {completed_data_passes + 1}: \"\n",
    "                    f\"Avg Loss: {current_pass_avg_loss:.4f}, Avg Acc: {current_pass_avg_acc:.2%}\"\n",
    "                )\n",
    "                if tb_writer:\n",
    "                    tb_writer.add_scalar('Loss/train_data_pass_avg',\n",
    "                                         current_pass_avg_loss,\n",
    "                                         completed_data_passes + 1)\n",
    "                    tb_writer.add_scalar('Accuracy/train_data_pass_avg',\n",
    "                                         current_pass_avg_acc,\n",
    "                                         completed_data_passes + 1)\n",
    "\n",
    "            epoch_running_loss = 0.0\n",
    "            epoch_running_corrects = 0\n",
    "            epoch_num_samples = 0\n",
    "            completed_data_passes += 1\n",
    "            train_iterator = iter(train_loader_val)\n",
    "            batch = next(train_iterator)\n",
    "\n",
    "        loss, accuracy = model_fn_speaker(batch, model_to_train, criterion_val,\n",
    "                                          device_val)\n",
    "\n",
    "        optimizer_val.zero_grad()\n",
    "        loss.backward()\n",
    "        optimizer_val.step()\n",
    "        scheduler_val.step()\n",
    "\n",
    "        current_lr = optimizer_val.param_groups[0]['lr']\n",
    "\n",
    "        current_batch_size = batch[0].size(0)\n",
    "        epoch_running_loss += loss.item() * current_batch_size\n",
    "        epoch_running_corrects += accuracy.item() * current_batch_size\n",
    "        epoch_num_samples += current_batch_size\n",
    "\n",
    "        current_epoch_avg_train_acc = 0\n",
    "        if epoch_num_samples > 0:\n",
    "            current_epoch_avg_train_acc = epoch_running_corrects / epoch_num_samples\n",
    "\n",
    "        if step % 100 == 0:\n",
    "            tb_writer.add_scalar('Loss/train_batch', loss.item(), step)\n",
    "            tb_writer.add_scalar('Accuracy/train_batch', accuracy.item(), step)\n",
    "            tb_writer.add_scalar('LearningRate/step', current_lr, step)\n",
    "\n",
    "        pbar_total_steps.set_postfix(\n",
    "            batch_loss=f\"{loss.item():.4f}\",\n",
    "            batch_acc=f\"{accuracy.item():.2%}\",\n",
    "            run_avg_acc=f\"{current_epoch_avg_train_acc:.2%}\",\n",
    "            lr=f\"{current_lr:.2e}\")\n",
    "\n",
    "        if (step + 1) % valid_steps == 0:\n",
    "            avg_valid_loss, avg_valid_acc = validate_speaker_model(\n",
    "                valid_loader_val,\n",
    "                model_to_train,\n",
    "                criterion_val,\n",
    "                device_val,\n",
    "                step + 1,\n",
    "                tb_writer,\n",
    "                pbar_desc_prefix=f\"Step {step+1}\")\n",
    "\n",
    "            pbar_total_steps.write(\n",
    "                f\"Step {step + 1}/{total_steps} - \"\n",
    "                f\"Valid Loss: {avg_valid_loss:.4f}, Valid Acc: {avg_valid_acc:.2%}\"\n",
    "            )\n",
    "\n",
    "            if avg_valid_acc > best_valid_acc:\n",
    "                best_valid_acc = avg_valid_acc\n",
    "                best_model_state_dict = model_to_train.state_dict()\n",
    "                torch.save(best_model_state_dict, model_save_path)\n",
    "                pbar_total_steps.write(\n",
    "                    f\"Best model updated at step {step + 1}. Accuracy: {best_valid_acc:.2%}. Saved to {model_save_path}\"\n",
    "                )\n",
    "                epochs_no_improve = 0\n",
    "            else:\n",
    "                epochs_no_improve += 1\n",
    "\n",
    "            if epochs_no_improve >= early_stop_patience:\n",
    "                pbar_total_steps.write(\n",
    "                    f\"Early stopping triggered at step {step + 1} after {epochs_no_improve} validation checks without improvement.\"\n",
    "                )\n",
    "                break\n",
    "\n",
    "    tb_writer.close()\n",
    "    print(\n",
    "        f\"\\nTraining finished. Best validation accuracy: {best_valid_acc:.4%}\")\n",
    "    if best_valid_acc > 0:\n",
    "        print(f\"Best model saved to {model_save_path}\")\n",
    "    else:\n",
    "        print(\n",
    "            \"No model was saved as validation accuracy did not improve or training was too short.\"\n",
    "        )\n",
    "\n",
    "    return best_valid_acc\n",
    "\n",
    "\n",
    "def train():\n",
    "    # prepare dataloaders\n",
    "    train_loader, valid_loader, speaker_num_from_data = get_dataloader(\n",
    "        data_dir_val=data_dir,\n",
    "        batch_size_val=batch_size,\n",
    "        n_workers_val=num_workers)\n",
    "\n",
    "    print(\n",
    "        f\"Train Dataloader: {len(train_loader.dataset)} samples, {len(train_loader)} batches\"\n",
    "    )\n",
    "    print(\n",
    "        f\"Valid Dataloader: {len(valid_loader.dataset)} samples, {len(valid_loader)} batches\"\n",
    "    )\n",
    "\n",
    "    # initialize model, criterion, optimizer, and scheduler\n",
    "    print(\"Initializing model, criterion, optimizer, and scheduler...\")\n",
    "    speaker_model = Classifier(d_model=d_model,\n",
    "                               dropout=dropout_rate,\n",
    "                               num_speakers=num_speakers).to(device)\n",
    "\n",
    "    criterion = nn.CrossEntropyLoss()\n",
    "    optimizer = AdamW(speaker_model.parameters(), lr=learning_rate)\n",
    "    scheduler = get_cosine_schedule_with_warmup(optimizer, num_warmup_steps,\n",
    "                                                total_steps)\n",
    "\n",
    "    # Run training\n",
    "    best_accuracy_from_training = train_speaker_model(\n",
    "        model_to_train=speaker_model,\n",
    "        train_loader_val=train_loader,\n",
    "        valid_loader_val=valid_loader,\n",
    "        criterion_val=criterion,\n",
    "        optimizer_val=optimizer,\n",
    "        scheduler_val=scheduler,\n",
    "        device_val=device)\n",
    "    print(\n",
    "        f\"Training complete. Best validation accuracy: {best_accuracy_from_training:.2%}\"\n",
    "    )\n"
   ]
  },
  {
   "cell_type": "markdown",
   "id": "4a2de4c0",
   "metadata": {},
   "source": [
    "# Training"
   ]
  },
  {
   "cell_type": "code",
   "execution_count": 59,
   "id": "24f95fcf",
   "metadata": {},
   "outputs": [
    {
     "name": "stdout",
     "output_type": "stream",
     "text": [
      "Train Dataloader: 50999 samples, 1593 batches\n",
      "Valid Dataloader: 5667 samples, 178 batches\n",
      "Initializing model, criterion, optimizer, and scheduler...\n"
     ]
    },
    {
     "data": {
      "application/vnd.jupyter.widget-view+json": {
       "model_id": "8ad45cdd7f4544e0a023fce68a177430",
       "version_major": 2,
       "version_minor": 0
      },
      "text/plain": [
       "Total Training Steps:   0%|          | 0/70000 [00:00<?, ?it/s]"
      ]
     },
     "metadata": {},
     "output_type": "display_data"
    },
    {
     "name": "stdout",
     "output_type": "stream",
     "text": [
      "End of Training Data Pass 1: Avg Loss: 5.4047, Avg Acc: 4.62%\n"
     ]
    },
    {
     "data": {
      "application/vnd.jupyter.widget-view+json": {
       "model_id": "116caa33366d45909c51b50a8bbe4304",
       "version_major": 2,
       "version_minor": 0
      },
      "text/plain": [
       "Step 2000 Validation:   0%|          | 0/178 [00:00<?, ?it/s]"
      ]
     },
     "metadata": {},
     "output_type": "display_data"
    },
    {
     "name": "stdout",
     "output_type": "stream",
     "text": [
      "Step 2000/70000 - Valid Loss: 4.0100, Valid Acc: 16.96%\n",
      "Best model updated at step 2000. Accuracy: 16.96%. Saved to ./speaker_model.ckpt\n",
      "End of Training Data Pass 2: Avg Loss: 3.8540, Avg Acc: 19.31%\n"
     ]
    },
    {
     "data": {
      "application/vnd.jupyter.widget-view+json": {
       "model_id": "70fda0ca39274c05bfa2b6c865c99a17",
       "version_major": 2,
       "version_minor": 0
      },
      "text/plain": [
       "Step 4000 Validation:   0%|          | 0/178 [00:00<?, ?it/s]"
      ]
     },
     "metadata": {},
     "output_type": "display_data"
    },
    {
     "name": "stdout",
     "output_type": "stream",
     "text": [
      "Step 4000/70000 - Valid Loss: 3.3382, Valid Acc: 27.72%\n",
      "Best model updated at step 4000. Accuracy: 27.72%. Saved to ./speaker_model.ckpt\n",
      "End of Training Data Pass 3: Avg Loss: 3.2810, Avg Acc: 28.82%\n"
     ]
    },
    {
     "data": {
      "application/vnd.jupyter.widget-view+json": {
       "model_id": "01c4531be5c446c1b57e46d526428b20",
       "version_major": 2,
       "version_minor": 0
      },
      "text/plain": [
       "Step 6000 Validation:   0%|          | 0/178 [00:00<?, ?it/s]"
      ]
     },
     "metadata": {},
     "output_type": "display_data"
    },
    {
     "name": "stdout",
     "output_type": "stream",
     "text": [
      "Step 6000/70000 - Valid Loss: 2.9200, Valid Acc: 35.64%\n",
      "Best model updated at step 6000. Accuracy: 35.64%. Saved to ./speaker_model.ckpt\n",
      "End of Training Data Pass 4: Avg Loss: 2.9385, Avg Acc: 35.17%\n",
      "End of Training Data Pass 5: Avg Loss: 2.7091, Avg Acc: 39.51%\n"
     ]
    },
    {
     "data": {
      "application/vnd.jupyter.widget-view+json": {
       "model_id": "93ccf5b4bbb04710ae28d53d452dc310",
       "version_major": 2,
       "version_minor": 0
      },
      "text/plain": [
       "Step 8000 Validation:   0%|          | 0/178 [00:00<?, ?it/s]"
      ]
     },
     "metadata": {},
     "output_type": "display_data"
    },
    {
     "name": "stdout",
     "output_type": "stream",
     "text": [
      "Step 8000/70000 - Valid Loss: 2.7080, Valid Acc: 39.90%\n",
      "Best model updated at step 8000. Accuracy: 39.90%. Saved to ./speaker_model.ckpt\n",
      "End of Training Data Pass 6: Avg Loss: 2.5248, Avg Acc: 42.88%\n"
     ]
    },
    {
     "data": {
      "application/vnd.jupyter.widget-view+json": {
       "model_id": "0e904e20028043d6bbcaa72c035af96e",
       "version_major": 2,
       "version_minor": 0
      },
      "text/plain": [
       "Step 10000 Validation:   0%|          | 0/178 [00:00<?, ?it/s]"
      ]
     },
     "metadata": {},
     "output_type": "display_data"
    },
    {
     "name": "stdout",
     "output_type": "stream",
     "text": [
      "Step 10000/70000 - Valid Loss: 2.5114, Valid Acc: 42.95%\n",
      "Best model updated at step 10000. Accuracy: 42.95%. Saved to ./speaker_model.ckpt\n",
      "End of Training Data Pass 7: Avg Loss: 2.3770, Avg Acc: 45.80%\n"
     ]
    },
    {
     "data": {
      "application/vnd.jupyter.widget-view+json": {
       "model_id": "16a7a0fc52db4fa49eafb954f464279e",
       "version_major": 2,
       "version_minor": 0
      },
      "text/plain": [
       "Step 12000 Validation:   0%|          | 0/178 [00:00<?, ?it/s]"
      ]
     },
     "metadata": {},
     "output_type": "display_data"
    },
    {
     "name": "stdout",
     "output_type": "stream",
     "text": [
      "Step 12000/70000 - Valid Loss: 2.4205, Valid Acc: 45.44%\n",
      "Best model updated at step 12000. Accuracy: 45.44%. Saved to ./speaker_model.ckpt\n",
      "End of Training Data Pass 8: Avg Loss: 2.2563, Avg Acc: 48.06%\n"
     ]
    },
    {
     "data": {
      "application/vnd.jupyter.widget-view+json": {
       "model_id": "ad28911df1ed402f8926f41d3004b9a5",
       "version_major": 2,
       "version_minor": 0
      },
      "text/plain": [
       "Step 14000 Validation:   0%|          | 0/178 [00:00<?, ?it/s]"
      ]
     },
     "metadata": {},
     "output_type": "display_data"
    },
    {
     "name": "stdout",
     "output_type": "stream",
     "text": [
      "Step 14000/70000 - Valid Loss: 2.3178, Valid Acc: 47.57%\n",
      "Best model updated at step 14000. Accuracy: 47.57%. Saved to ./speaker_model.ckpt\n",
      "End of Training Data Pass 9: Avg Loss: 2.1543, Avg Acc: 49.98%\n",
      "End of Training Data Pass 10: Avg Loss: 2.0781, Avg Acc: 51.62%\n"
     ]
    },
    {
     "data": {
      "application/vnd.jupyter.widget-view+json": {
       "model_id": "38a0cc2128684faabed2337a17ca6939",
       "version_major": 2,
       "version_minor": 0
      },
      "text/plain": [
       "Step 16000 Validation:   0%|          | 0/178 [00:00<?, ?it/s]"
      ]
     },
     "metadata": {},
     "output_type": "display_data"
    },
    {
     "name": "stdout",
     "output_type": "stream",
     "text": [
      "Step 16000/70000 - Valid Loss: 2.2108, Valid Acc: 49.39%\n",
      "Best model updated at step 16000. Accuracy: 49.39%. Saved to ./speaker_model.ckpt\n",
      "End of Training Data Pass 11: Avg Loss: 1.9887, Avg Acc: 53.33%\n"
     ]
    },
    {
     "data": {
      "application/vnd.jupyter.widget-view+json": {
       "model_id": "f1522037d6994970a8494c6c78184ba7",
       "version_major": 2,
       "version_minor": 0
      },
      "text/plain": [
       "Step 18000 Validation:   0%|          | 0/178 [00:00<?, ?it/s]"
      ]
     },
     "metadata": {},
     "output_type": "display_data"
    },
    {
     "name": "stdout",
     "output_type": "stream",
     "text": [
      "Step 18000/70000 - Valid Loss: 2.2258, Valid Acc: 49.76%\n",
      "Best model updated at step 18000. Accuracy: 49.76%. Saved to ./speaker_model.ckpt\n",
      "End of Training Data Pass 12: Avg Loss: 1.9249, Avg Acc: 54.80%\n"
     ]
    },
    {
     "data": {
      "application/vnd.jupyter.widget-view+json": {
       "model_id": "c4d1e077b5874c67b1383fc8f6e0883b",
       "version_major": 2,
       "version_minor": 0
      },
      "text/plain": [
       "Step 20000 Validation:   0%|          | 0/178 [00:00<?, ?it/s]"
      ]
     },
     "metadata": {},
     "output_type": "display_data"
    },
    {
     "name": "stdout",
     "output_type": "stream",
     "text": [
      "Step 20000/70000 - Valid Loss: 2.0836, Valid Acc: 51.83%\n",
      "Best model updated at step 20000. Accuracy: 51.83%. Saved to ./speaker_model.ckpt\n",
      "End of Training Data Pass 13: Avg Loss: 1.8540, Avg Acc: 56.12%\n"
     ]
    },
    {
     "data": {
      "application/vnd.jupyter.widget-view+json": {
       "model_id": "26d6bcde84034ad5bde24a86f2afd8b2",
       "version_major": 2,
       "version_minor": 0
      },
      "text/plain": [
       "Step 22000 Validation:   0%|          | 0/178 [00:00<?, ?it/s]"
      ]
     },
     "metadata": {},
     "output_type": "display_data"
    },
    {
     "name": "stdout",
     "output_type": "stream",
     "text": [
      "Step 22000/70000 - Valid Loss: 2.0051, Valid Acc: 54.44%\n",
      "Best model updated at step 22000. Accuracy: 54.44%. Saved to ./speaker_model.ckpt\n",
      "End of Training Data Pass 14: Avg Loss: 1.7930, Avg Acc: 57.31%\n",
      "End of Training Data Pass 15: Avg Loss: 1.7485, Avg Acc: 58.35%\n"
     ]
    },
    {
     "data": {
      "application/vnd.jupyter.widget-view+json": {
       "model_id": "6c8cf789a0b641be869921cd84cb6034",
       "version_major": 2,
       "version_minor": 0
      },
      "text/plain": [
       "Step 24000 Validation:   0%|          | 0/178 [00:00<?, ?it/s]"
      ]
     },
     "metadata": {},
     "output_type": "display_data"
    },
    {
     "name": "stdout",
     "output_type": "stream",
     "text": [
      "Step 24000/70000 - Valid Loss: 1.9959, Valid Acc: 54.39%\n",
      "End of Training Data Pass 16: Avg Loss: 1.7064, Avg Acc: 59.17%\n"
     ]
    },
    {
     "data": {
      "application/vnd.jupyter.widget-view+json": {
       "model_id": "0a6d3a95fe074b62845423194b88eba8",
       "version_major": 2,
       "version_minor": 0
      },
      "text/plain": [
       "Step 26000 Validation:   0%|          | 0/178 [00:00<?, ?it/s]"
      ]
     },
     "metadata": {},
     "output_type": "display_data"
    },
    {
     "name": "stdout",
     "output_type": "stream",
     "text": [
      "Step 26000/70000 - Valid Loss: 1.9087, Valid Acc: 56.38%\n",
      "Best model updated at step 26000. Accuracy: 56.38%. Saved to ./speaker_model.ckpt\n",
      "End of Training Data Pass 17: Avg Loss: 1.6487, Avg Acc: 60.46%\n"
     ]
    },
    {
     "data": {
      "application/vnd.jupyter.widget-view+json": {
       "model_id": "2b34e67741cd48c18718fbd0efefa245",
       "version_major": 2,
       "version_minor": 0
      },
      "text/plain": [
       "Step 28000 Validation:   0%|          | 0/178 [00:00<?, ?it/s]"
      ]
     },
     "metadata": {},
     "output_type": "display_data"
    },
    {
     "name": "stdout",
     "output_type": "stream",
     "text": [
      "Step 28000/70000 - Valid Loss: 1.9204, Valid Acc: 56.48%\n",
      "Best model updated at step 28000. Accuracy: 56.48%. Saved to ./speaker_model.ckpt\n",
      "End of Training Data Pass 18: Avg Loss: 1.5987, Avg Acc: 61.63%\n"
     ]
    },
    {
     "data": {
      "application/vnd.jupyter.widget-view+json": {
       "model_id": "f8d5a46ef76344158001da268fcda37d",
       "version_major": 2,
       "version_minor": 0
      },
      "text/plain": [
       "Step 30000 Validation:   0%|          | 0/178 [00:00<?, ?it/s]"
      ]
     },
     "metadata": {},
     "output_type": "display_data"
    },
    {
     "name": "stdout",
     "output_type": "stream",
     "text": [
      "Step 30000/70000 - Valid Loss: 1.8450, Valid Acc: 57.83%\n",
      "Best model updated at step 30000. Accuracy: 57.83%. Saved to ./speaker_model.ckpt\n",
      "End of Training Data Pass 19: Avg Loss: 1.5650, Avg Acc: 62.33%\n",
      "End of Training Data Pass 20: Avg Loss: 1.5123, Avg Acc: 63.63%\n"
     ]
    },
    {
     "data": {
      "application/vnd.jupyter.widget-view+json": {
       "model_id": "511e544886254f2c9ea28273f3038275",
       "version_major": 2,
       "version_minor": 0
      },
      "text/plain": [
       "Step 32000 Validation:   0%|          | 0/178 [00:00<?, ?it/s]"
      ]
     },
     "metadata": {},
     "output_type": "display_data"
    },
    {
     "name": "stdout",
     "output_type": "stream",
     "text": [
      "Step 32000/70000 - Valid Loss: 1.7934, Valid Acc: 59.22%\n",
      "Best model updated at step 32000. Accuracy: 59.22%. Saved to ./speaker_model.ckpt\n",
      "End of Training Data Pass 21: Avg Loss: 1.4826, Avg Acc: 64.18%\n"
     ]
    },
    {
     "data": {
      "application/vnd.jupyter.widget-view+json": {
       "model_id": "adacfd8d83d545568bf74f920d259c10",
       "version_major": 2,
       "version_minor": 0
      },
      "text/plain": [
       "Step 34000 Validation:   0%|          | 0/178 [00:00<?, ?it/s]"
      ]
     },
     "metadata": {},
     "output_type": "display_data"
    },
    {
     "name": "stdout",
     "output_type": "stream",
     "text": [
      "Step 34000/70000 - Valid Loss: 1.7207, Valid Acc: 59.61%\n",
      "Best model updated at step 34000. Accuracy: 59.61%. Saved to ./speaker_model.ckpt\n",
      "End of Training Data Pass 22: Avg Loss: 1.4419, Avg Acc: 65.01%\n"
     ]
    },
    {
     "data": {
      "application/vnd.jupyter.widget-view+json": {
       "model_id": "f264f389214544a186f2c21ccc4920d9",
       "version_major": 2,
       "version_minor": 0
      },
      "text/plain": [
       "Step 36000 Validation:   0%|          | 0/178 [00:00<?, ?it/s]"
      ]
     },
     "metadata": {},
     "output_type": "display_data"
    },
    {
     "name": "stdout",
     "output_type": "stream",
     "text": [
      "Step 36000/70000 - Valid Loss: 1.6984, Valid Acc: 60.60%\n",
      "Best model updated at step 36000. Accuracy: 60.60%. Saved to ./speaker_model.ckpt\n",
      "End of Training Data Pass 23: Avg Loss: 1.4142, Avg Acc: 65.58%\n"
     ]
    },
    {
     "data": {
      "application/vnd.jupyter.widget-view+json": {
       "model_id": "62b12017d85f4beebc298f41f5ee3661",
       "version_major": 2,
       "version_minor": 0
      },
      "text/plain": [
       "Step 38000 Validation:   0%|          | 0/178 [00:00<?, ?it/s]"
      ]
     },
     "metadata": {},
     "output_type": "display_data"
    },
    {
     "name": "stdout",
     "output_type": "stream",
     "text": [
      "Step 38000/70000 - Valid Loss: 1.6950, Valid Acc: 61.53%\n",
      "Best model updated at step 38000. Accuracy: 61.53%. Saved to ./speaker_model.ckpt\n",
      "End of Training Data Pass 24: Avg Loss: 1.3767, Avg Acc: 66.61%\n",
      "End of Training Data Pass 25: Avg Loss: 1.3326, Avg Acc: 67.65%\n"
     ]
    },
    {
     "data": {
      "application/vnd.jupyter.widget-view+json": {
       "model_id": "9fe8cd60cfa849e2a92e098b222ce2c5",
       "version_major": 2,
       "version_minor": 0
      },
      "text/plain": [
       "Step 40000 Validation:   0%|          | 0/178 [00:00<?, ?it/s]"
      ]
     },
     "metadata": {},
     "output_type": "display_data"
    },
    {
     "name": "stdout",
     "output_type": "stream",
     "text": [
      "Step 40000/70000 - Valid Loss: 1.6291, Valid Acc: 62.82%\n",
      "Best model updated at step 40000. Accuracy: 62.82%. Saved to ./speaker_model.ckpt\n",
      "End of Training Data Pass 26: Avg Loss: 1.2960, Avg Acc: 68.48%\n"
     ]
    },
    {
     "data": {
      "application/vnd.jupyter.widget-view+json": {
       "model_id": "82469f63d4494424b97af51a7ff64979",
       "version_major": 2,
       "version_minor": 0
      },
      "text/plain": [
       "Step 42000 Validation:   0%|          | 0/178 [00:00<?, ?it/s]"
      ]
     },
     "metadata": {},
     "output_type": "display_data"
    },
    {
     "name": "stdout",
     "output_type": "stream",
     "text": [
      "Step 42000/70000 - Valid Loss: 1.6010, Valid Acc: 63.01%\n",
      "Best model updated at step 42000. Accuracy: 63.01%. Saved to ./speaker_model.ckpt\n",
      "End of Training Data Pass 27: Avg Loss: 1.2818, Avg Acc: 68.78%\n"
     ]
    },
    {
     "data": {
      "application/vnd.jupyter.widget-view+json": {
       "model_id": "a1f71c865a234754bae1c09d89bceb14",
       "version_major": 2,
       "version_minor": 0
      },
      "text/plain": [
       "Step 44000 Validation:   0%|          | 0/178 [00:00<?, ?it/s]"
      ]
     },
     "metadata": {},
     "output_type": "display_data"
    },
    {
     "name": "stdout",
     "output_type": "stream",
     "text": [
      "Step 44000/70000 - Valid Loss: 1.5824, Valid Acc: 63.98%\n",
      "Best model updated at step 44000. Accuracy: 63.98%. Saved to ./speaker_model.ckpt\n",
      "End of Training Data Pass 28: Avg Loss: 1.2492, Avg Acc: 69.50%\n"
     ]
    },
    {
     "data": {
      "application/vnd.jupyter.widget-view+json": {
       "model_id": "1c7a87da319e47a8be90af87cad90a79",
       "version_major": 2,
       "version_minor": 0
      },
      "text/plain": [
       "Step 46000 Validation:   0%|          | 0/178 [00:00<?, ?it/s]"
      ]
     },
     "metadata": {},
     "output_type": "display_data"
    },
    {
     "name": "stdout",
     "output_type": "stream",
     "text": [
      "Step 46000/70000 - Valid Loss: 1.5610, Valid Acc: 63.90%\n",
      "End of Training Data Pass 29: Avg Loss: 1.2247, Avg Acc: 70.24%\n",
      "End of Training Data Pass 30: Avg Loss: 1.1937, Avg Acc: 70.84%\n"
     ]
    },
    {
     "data": {
      "application/vnd.jupyter.widget-view+json": {
       "model_id": "e8307a9c7eee498a9ef9c1324784ae5b",
       "version_major": 2,
       "version_minor": 0
      },
      "text/plain": [
       "Step 48000 Validation:   0%|          | 0/178 [00:00<?, ?it/s]"
      ]
     },
     "metadata": {},
     "output_type": "display_data"
    },
    {
     "name": "stdout",
     "output_type": "stream",
     "text": [
      "Step 48000/70000 - Valid Loss: 1.5882, Valid Acc: 63.63%\n",
      "End of Training Data Pass 31: Avg Loss: 1.1611, Avg Acc: 71.75%\n"
     ]
    },
    {
     "data": {
      "application/vnd.jupyter.widget-view+json": {
       "model_id": "2f34c6ebe1534679b365e36401620cbf",
       "version_major": 2,
       "version_minor": 0
      },
      "text/plain": [
       "Step 50000 Validation:   0%|          | 0/178 [00:00<?, ?it/s]"
      ]
     },
     "metadata": {},
     "output_type": "display_data"
    },
    {
     "name": "stdout",
     "output_type": "stream",
     "text": [
      "Step 50000/70000 - Valid Loss: 1.5075, Valid Acc: 65.18%\n",
      "Best model updated at step 50000. Accuracy: 65.18%. Saved to ./speaker_model.ckpt\n",
      "End of Training Data Pass 32: Avg Loss: 1.1420, Avg Acc: 72.25%\n"
     ]
    },
    {
     "data": {
      "application/vnd.jupyter.widget-view+json": {
       "model_id": "938a57bb5fd441e2a69edbddb153e0df",
       "version_major": 2,
       "version_minor": 0
      },
      "text/plain": [
       "Step 52000 Validation:   0%|          | 0/178 [00:00<?, ?it/s]"
      ]
     },
     "metadata": {},
     "output_type": "display_data"
    },
    {
     "name": "stdout",
     "output_type": "stream",
     "text": [
      "Step 52000/70000 - Valid Loss: 1.5107, Valid Acc: 65.85%\n",
      "Best model updated at step 52000. Accuracy: 65.85%. Saved to ./speaker_model.ckpt\n",
      "End of Training Data Pass 33: Avg Loss: 1.1309, Avg Acc: 72.36%\n"
     ]
    },
    {
     "data": {
      "application/vnd.jupyter.widget-view+json": {
       "model_id": "b52e7ce499474592ab25fc401af7d661",
       "version_major": 2,
       "version_minor": 0
      },
      "text/plain": [
       "Step 54000 Validation:   0%|          | 0/178 [00:00<?, ?it/s]"
      ]
     },
     "metadata": {},
     "output_type": "display_data"
    },
    {
     "name": "stdout",
     "output_type": "stream",
     "text": [
      "Step 54000/70000 - Valid Loss: 1.4857, Valid Acc: 66.07%\n",
      "Best model updated at step 54000. Accuracy: 66.07%. Saved to ./speaker_model.ckpt\n",
      "End of Training Data Pass 34: Avg Loss: 1.1078, Avg Acc: 72.77%\n",
      "End of Training Data Pass 35: Avg Loss: 1.0916, Avg Acc: 73.18%\n"
     ]
    },
    {
     "data": {
      "application/vnd.jupyter.widget-view+json": {
       "model_id": "ba3f58b2aeaa4d8a9c3058796b2ee300",
       "version_major": 2,
       "version_minor": 0
      },
      "text/plain": [
       "Step 56000 Validation:   0%|          | 0/178 [00:00<?, ?it/s]"
      ]
     },
     "metadata": {},
     "output_type": "display_data"
    },
    {
     "name": "stdout",
     "output_type": "stream",
     "text": [
      "Step 56000/70000 - Valid Loss: 1.4283, Valid Acc: 66.88%\n",
      "Best model updated at step 56000. Accuracy: 66.88%. Saved to ./speaker_model.ckpt\n",
      "End of Training Data Pass 36: Avg Loss: 1.0718, Avg Acc: 73.77%\n"
     ]
    },
    {
     "data": {
      "application/vnd.jupyter.widget-view+json": {
       "model_id": "44e32d8ebf524bf09500a87154df81e2",
       "version_major": 2,
       "version_minor": 0
      },
      "text/plain": [
       "Step 58000 Validation:   0%|          | 0/178 [00:00<?, ?it/s]"
      ]
     },
     "metadata": {},
     "output_type": "display_data"
    },
    {
     "name": "stdout",
     "output_type": "stream",
     "text": [
      "Step 58000/70000 - Valid Loss: 1.4752, Valid Acc: 65.87%\n",
      "End of Training Data Pass 37: Avg Loss: 1.0511, Avg Acc: 74.47%\n"
     ]
    },
    {
     "data": {
      "application/vnd.jupyter.widget-view+json": {
       "model_id": "2495ddc8e60f4013b3483be8c6e889bb",
       "version_major": 2,
       "version_minor": 0
      },
      "text/plain": [
       "Step 60000 Validation:   0%|          | 0/178 [00:00<?, ?it/s]"
      ]
     },
     "metadata": {},
     "output_type": "display_data"
    },
    {
     "name": "stdout",
     "output_type": "stream",
     "text": [
      "Step 60000/70000 - Valid Loss: 1.4143, Valid Acc: 67.27%\n",
      "Best model updated at step 60000. Accuracy: 67.27%. Saved to ./speaker_model.ckpt\n",
      "End of Training Data Pass 38: Avg Loss: 1.0408, Avg Acc: 74.35%\n"
     ]
    },
    {
     "data": {
      "application/vnd.jupyter.widget-view+json": {
       "model_id": "bd446f94592f49719407710bb41eff69",
       "version_major": 2,
       "version_minor": 0
      },
      "text/plain": [
       "Step 62000 Validation:   0%|          | 0/178 [00:00<?, ?it/s]"
      ]
     },
     "metadata": {},
     "output_type": "display_data"
    },
    {
     "name": "stdout",
     "output_type": "stream",
     "text": [
      "Step 62000/70000 - Valid Loss: 1.4373, Valid Acc: 67.37%\n",
      "Best model updated at step 62000. Accuracy: 67.37%. Saved to ./speaker_model.ckpt\n",
      "End of Training Data Pass 39: Avg Loss: 1.0257, Avg Acc: 74.96%\n",
      "End of Training Data Pass 40: Avg Loss: 1.0165, Avg Acc: 75.07%\n"
     ]
    },
    {
     "data": {
      "application/vnd.jupyter.widget-view+json": {
       "model_id": "5df197baeb6649998c79c98ffb503c24",
       "version_major": 2,
       "version_minor": 0
      },
      "text/plain": [
       "Step 64000 Validation:   0%|          | 0/178 [00:00<?, ?it/s]"
      ]
     },
     "metadata": {},
     "output_type": "display_data"
    },
    {
     "name": "stdout",
     "output_type": "stream",
     "text": [
      "Step 64000/70000 - Valid Loss: 1.4153, Valid Acc: 68.25%\n",
      "Best model updated at step 64000. Accuracy: 68.25%. Saved to ./speaker_model.ckpt\n",
      "End of Training Data Pass 41: Avg Loss: 1.0086, Avg Acc: 75.62%\n"
     ]
    },
    {
     "data": {
      "application/vnd.jupyter.widget-view+json": {
       "model_id": "37f85e6dddbf44acbfa1e77b6ece5d98",
       "version_major": 2,
       "version_minor": 0
      },
      "text/plain": [
       "Step 66000 Validation:   0%|          | 0/178 [00:00<?, ?it/s]"
      ]
     },
     "metadata": {},
     "output_type": "display_data"
    },
    {
     "name": "stdout",
     "output_type": "stream",
     "text": [
      "Step 66000/70000 - Valid Loss: 1.3985, Valid Acc: 68.10%\n",
      "End of Training Data Pass 42: Avg Loss: 1.0079, Avg Acc: 75.14%\n"
     ]
    },
    {
     "data": {
      "application/vnd.jupyter.widget-view+json": {
       "model_id": "429822f0a2884f90a4565deccab3a2a0",
       "version_major": 2,
       "version_minor": 0
      },
      "text/plain": [
       "Step 68000 Validation:   0%|          | 0/178 [00:00<?, ?it/s]"
      ]
     },
     "metadata": {},
     "output_type": "display_data"
    },
    {
     "name": "stdout",
     "output_type": "stream",
     "text": [
      "Step 68000/70000 - Valid Loss: 1.4175, Valid Acc: 67.85%\n",
      "End of Training Data Pass 43: Avg Loss: 1.0048, Avg Acc: 75.44%\n"
     ]
    },
    {
     "data": {
      "application/vnd.jupyter.widget-view+json": {
       "model_id": "7534a857561742cb9f4c7304969a3e95",
       "version_major": 2,
       "version_minor": 0
      },
      "text/plain": [
       "Step 70000 Validation:   0%|          | 0/178 [00:00<?, ?it/s]"
      ]
     },
     "metadata": {},
     "output_type": "display_data"
    },
    {
     "name": "stdout",
     "output_type": "stream",
     "text": [
      "Step 70000/70000 - Valid Loss: 1.4315, Valid Acc: 67.85%\n",
      "\n",
      "Training finished. Best validation accuracy: 68.2548%\n",
      "Best model saved to ./speaker_model.ckpt\n",
      "Training complete. Best validation accuracy: 68.25%\n"
     ]
    }
   ],
   "source": [
    "train()\n"
   ]
  },
  {
   "cell_type": "markdown",
   "id": "25faedd3",
   "metadata": {},
   "source": [
    "## Tensorboard"
   ]
  },
  {
   "cell_type": "code",
   "execution_count": null,
   "id": "106b3a70",
   "metadata": {},
   "outputs": [
    {
     "data": {
      "text/plain": [
       "Reusing TensorBoard on port 6006 (pid 86512), started 2 days, 8:10:38 ago. (Use '!kill 86512' to kill it.)"
      ]
     },
     "metadata": {},
     "output_type": "display_data"
    },
    {
     "data": {
      "text/html": [
       "\n",
       "      <iframe id=\"tensorboard-frame-1c3ad8062ce28b4\" width=\"100%\" height=\"800\" frameborder=\"0\">\n",
       "      </iframe>\n",
       "      <script>\n",
       "        (function() {\n",
       "          const frame = document.getElementById(\"tensorboard-frame-1c3ad8062ce28b4\");\n",
       "          const url = new URL(\"http://localhost\");\n",
       "          const port = 6006;\n",
       "          if (port) {\n",
       "            url.port = port;\n",
       "          }\n",
       "          frame.src = url;\n",
       "        })();\n",
       "      </script>\n",
       "    "
      ],
      "text/plain": [
       "<IPython.core.display.HTML object>"
      ]
     },
     "metadata": {},
     "output_type": "display_data"
    }
   ],
   "source": [
    "%reload_ext tensorboard\n",
    "%tensorboard --logdir=./runs/  --port 6006\n"
   ]
  },
  {
   "cell_type": "markdown",
   "id": "58f287e7",
   "metadata": {},
   "source": [
    "# Test & Predict"
   ]
  },
  {
   "cell_type": "code",
   "execution_count": 17,
   "id": "fa76ffc0",
   "metadata": {},
   "outputs": [
    {
     "name": "stdout",
     "output_type": "stream",
     "text": [
      "[Info]: Finish loading data!\n",
      "[Info]: Finish creating model!\n"
     ]
    },
    {
     "data": {
      "application/vnd.jupyter.widget-view+json": {
       "model_id": "5eaf4033e59948328b40cd5e75594176",
       "version_major": 2,
       "version_minor": 0
      },
      "text/plain": [
       "  0%|          | 0/8000 [00:00<?, ?it/s]"
      ]
     },
     "metadata": {},
     "output_type": "display_data"
    },
    {
     "name": "stderr",
     "output_type": "stream",
     "text": [
      "e:\\Anaconda\\envs\\pytorch\\Lib\\site-packages\\torch\\nn\\functional.py:5476: UserWarning: 1Torch was not compiled with flash attention. (Triggered internally at C:\\cb\\pytorch_1000000000000\\work\\aten\\src\\ATen\\native\\transformers\\cuda\\sdp_utils.cpp:263.)\n",
      "  attn_output = scaled_dot_product_attention(q, k, v, attn_mask, dropout_p, is_causal)\n"
     ]
    }
   ],
   "source": [
    "# inference Dataset\n",
    "class InferenceDataset(Dataset):\n",
    "\n",
    "    def __init__(self, data_dir_val):\n",
    "        testdata_path = Path(data_dir_val) / \"testdata.json\"\n",
    "        metadata = json.load(testdata_path.open())\n",
    "        self.data_dir = data_dir_val\n",
    "        self.data = metadata[\"utterances\"]\n",
    "\n",
    "    def __len__(self):\n",
    "        return len(self.data)\n",
    "\n",
    "    def __getitem__(self, index):\n",
    "        utterance = self.data[index]\n",
    "        feat_path = utterance[\"feature_path\"]\n",
    "        mel = torch.load(os.path.join(self.data_dir, feat_path))\n",
    "        mel = torch.FloatTensor(mel)\n",
    "        return feat_path, mel\n",
    "\n",
    "\n",
    "# inference collate function\n",
    "def inference_collate_batch(batch):\n",
    "    feat_paths, mels = zip(*batch)\n",
    "    mels_padded = pad_sequence(mels, batch_first=True, padding_value=-20)\n",
    "    return feat_paths, mels_padded\n",
    "\n",
    "\n",
    "# create submission file\n",
    "def create_submission(device_val):\n",
    "    mapping_path = Path(data_dir) / \"mapping.json\"\n",
    "    mapping = json.load(mapping_path.open())\n",
    "\n",
    "    dataset = InferenceDataset(data_dir)\n",
    "    dataloader = DataLoader(\n",
    "        dataset,\n",
    "        batch_size=1,\n",
    "        shuffle=False,\n",
    "        drop_last=False,\n",
    "        num_workers=num_workers,\n",
    "        collate_fn=inference_collate_batch,\n",
    "    )\n",
    "    print(f\"[Info]: Finish loading data!\", flush=True)\n",
    "\n",
    "    speaker_num = len(mapping[\"id2speaker\"])\n",
    "    model = Classifier(num_speakers=speaker_num).to(device)\n",
    "    model.load_state_dict(torch.load(model_save_path))\n",
    "    model.eval()\n",
    "    print(f\"[Info]: Finish creating model!\", flush=True)\n",
    "\n",
    "    results = [[\"Id\", \"Category\"]]\n",
    "    for feat_paths, mels in tqdm(dataloader):\n",
    "        with torch.no_grad():\n",
    "            mels = mels.to(device)\n",
    "            outs = model(mels)\n",
    "            preds = outs.argmax(1).cpu().numpy()\n",
    "            for feat_path, pred in zip(feat_paths, preds):\n",
    "                results.append([feat_path, mapping[\"id2speaker\"][str(pred)]])\n",
    "\n",
    "    with open(submission_path, 'w', newline='') as csvfile:\n",
    "        writer = csv.writer(csvfile)\n",
    "        writer.writerows(results)\n",
    "\n",
    "\n",
    "# Run inference\n",
    "create_submission(device)\n"
   ]
  }
 ],
 "metadata": {
  "kernelspec": {
   "display_name": "pytorch",
   "language": "python",
   "name": "python3"
  },
  "language_info": {
   "codemirror_mode": {
    "name": "ipython",
    "version": 3
   },
   "file_extension": ".py",
   "mimetype": "text/x-python",
   "name": "python",
   "nbconvert_exporter": "python",
   "pygments_lexer": "ipython3",
   "version": "3.12.0"
  }
 },
 "nbformat": 4,
 "nbformat_minor": 5
}
